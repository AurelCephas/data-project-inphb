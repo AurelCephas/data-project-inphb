{
 "cells": [
  {
   "cell_type": "code",
   "execution_count": 1,
   "metadata": {},
   "outputs": [],
   "source": [
    "import pandas as pd\n",
    "import numpy as np"
   ]
  },
  {
   "cell_type": "code",
   "execution_count": 4,
   "metadata": {
    "scrolled": true
   },
   "outputs": [
    {
     "data": {
      "text/html": [
       "<div>\n",
       "<style scoped>\n",
       "    .dataframe tbody tr th:only-of-type {\n",
       "        vertical-align: middle;\n",
       "    }\n",
       "\n",
       "    .dataframe tbody tr th {\n",
       "        vertical-align: top;\n",
       "    }\n",
       "\n",
       "    .dataframe thead th {\n",
       "        text-align: right;\n",
       "    }\n",
       "</style>\n",
       "<table border=\"1\" class=\"dataframe\">\n",
       "  <thead>\n",
       "    <tr style=\"text-align: right;\">\n",
       "      <th></th>\n",
       "      <th>PassengerId</th>\n",
       "      <th>Survived</th>\n",
       "      <th>Pclass</th>\n",
       "      <th>Name</th>\n",
       "      <th>Sex</th>\n",
       "      <th>Age</th>\n",
       "      <th>SibSp</th>\n",
       "      <th>Parch</th>\n",
       "      <th>Ticket</th>\n",
       "      <th>Fare</th>\n",
       "      <th>Cabin</th>\n",
       "      <th>Embarked</th>\n",
       "    </tr>\n",
       "  </thead>\n",
       "  <tbody>\n",
       "    <tr>\n",
       "      <th>0</th>\n",
       "      <td>1</td>\n",
       "      <td>0</td>\n",
       "      <td>3</td>\n",
       "      <td>Braund, Mr. Owen Harris</td>\n",
       "      <td>male</td>\n",
       "      <td>22.0</td>\n",
       "      <td>1</td>\n",
       "      <td>0</td>\n",
       "      <td>A/5 21171</td>\n",
       "      <td>7.2500</td>\n",
       "      <td>NaN</td>\n",
       "      <td>S</td>\n",
       "    </tr>\n",
       "    <tr>\n",
       "      <th>1</th>\n",
       "      <td>2</td>\n",
       "      <td>1</td>\n",
       "      <td>1</td>\n",
       "      <td>Cumings, Mrs. John Bradley (Florence Briggs Th...</td>\n",
       "      <td>female</td>\n",
       "      <td>38.0</td>\n",
       "      <td>1</td>\n",
       "      <td>0</td>\n",
       "      <td>PC 17599</td>\n",
       "      <td>71.2833</td>\n",
       "      <td>C85</td>\n",
       "      <td>C</td>\n",
       "    </tr>\n",
       "    <tr>\n",
       "      <th>2</th>\n",
       "      <td>3</td>\n",
       "      <td>1</td>\n",
       "      <td>3</td>\n",
       "      <td>Heikkinen, Miss. Laina</td>\n",
       "      <td>female</td>\n",
       "      <td>26.0</td>\n",
       "      <td>0</td>\n",
       "      <td>0</td>\n",
       "      <td>STON/O2. 3101282</td>\n",
       "      <td>7.9250</td>\n",
       "      <td>NaN</td>\n",
       "      <td>S</td>\n",
       "    </tr>\n",
       "    <tr>\n",
       "      <th>3</th>\n",
       "      <td>4</td>\n",
       "      <td>1</td>\n",
       "      <td>1</td>\n",
       "      <td>Futrelle, Mrs. Jacques Heath (Lily May Peel)</td>\n",
       "      <td>female</td>\n",
       "      <td>35.0</td>\n",
       "      <td>1</td>\n",
       "      <td>0</td>\n",
       "      <td>113803</td>\n",
       "      <td>53.1000</td>\n",
       "      <td>C123</td>\n",
       "      <td>S</td>\n",
       "    </tr>\n",
       "    <tr>\n",
       "      <th>4</th>\n",
       "      <td>5</td>\n",
       "      <td>0</td>\n",
       "      <td>3</td>\n",
       "      <td>Allen, Mr. William Henry</td>\n",
       "      <td>male</td>\n",
       "      <td>35.0</td>\n",
       "      <td>0</td>\n",
       "      <td>0</td>\n",
       "      <td>373450</td>\n",
       "      <td>8.0500</td>\n",
       "      <td>NaN</td>\n",
       "      <td>S</td>\n",
       "    </tr>\n",
       "  </tbody>\n",
       "</table>\n",
       "</div>"
      ],
      "text/plain": [
       "   PassengerId  Survived  Pclass  \\\n",
       "0            1         0       3   \n",
       "1            2         1       1   \n",
       "2            3         1       3   \n",
       "3            4         1       1   \n",
       "4            5         0       3   \n",
       "\n",
       "                                                Name     Sex   Age  SibSp  \\\n",
       "0                            Braund, Mr. Owen Harris    male  22.0      1   \n",
       "1  Cumings, Mrs. John Bradley (Florence Briggs Th...  female  38.0      1   \n",
       "2                             Heikkinen, Miss. Laina  female  26.0      0   \n",
       "3       Futrelle, Mrs. Jacques Heath (Lily May Peel)  female  35.0      1   \n",
       "4                           Allen, Mr. William Henry    male  35.0      0   \n",
       "\n",
       "   Parch            Ticket     Fare Cabin Embarked  \n",
       "0      0         A/5 21171   7.2500   NaN        S  \n",
       "1      0          PC 17599  71.2833   C85        C  \n",
       "2      0  STON/O2. 3101282   7.9250   NaN        S  \n",
       "3      0            113803  53.1000  C123        S  \n",
       "4      0            373450   8.0500   NaN        S  "
      ]
     },
     "execution_count": 4,
     "metadata": {},
     "output_type": "execute_result"
    }
   ],
   "source": [
    "train = pd.read_csv(\"data_titanic/train.csv\", sep=',')\n",
    "#train.set_index(\"PassengerId\", inplace=True, drop=True)\n",
    "train.head()"
   ]
  },
  {
   "cell_type": "code",
   "execution_count": 9,
   "metadata": {},
   "outputs": [
    {
     "name": "stdout",
     "output_type": "stream",
     "text": [
      "<class 'pandas.core.frame.DataFrame'>\n",
      "RangeIndex: 891 entries, 0 to 890\n",
      "Data columns (total 12 columns):\n",
      " #   Column       Non-Null Count  Dtype  \n",
      "---  ------       --------------  -----  \n",
      " 0   PassengerId  891 non-null    int64  \n",
      " 1   Survived     891 non-null    object \n",
      " 2   Pclass       891 non-null    object \n",
      " 3   Name         891 non-null    object \n",
      " 4   Sex          891 non-null    object \n",
      " 5   Age          714 non-null    float64\n",
      " 6   SibSp        891 non-null    int64  \n",
      " 7   Parch        891 non-null    int64  \n",
      " 8   Ticket       891 non-null    object \n",
      " 9   Fare         891 non-null    float64\n",
      " 10  Cabin        204 non-null    object \n",
      " 11  Embarked     889 non-null    object \n",
      "dtypes: float64(2), int64(3), object(7)\n",
      "memory usage: 83.7+ KB\n"
     ]
    }
   ],
   "source": [
    "def convert_cast(df, categorical_cols):\n",
    "    for col_name in categorical_cols:\n",
    "        df[col_name] = df[col_name].astype(\"object\")\n",
    "    return df\n",
    "\n",
    "categorical_cols = [\"Survived\", \"Pclass\"]\n",
    "df= convert_cast(train, categorical_cols)\n",
    "df.info()"
   ]
  },
  {
   "cell_type": "code",
   "execution_count": null,
   "metadata": {},
   "outputs": [],
   "source": [
    "def convert_cast(mapper_config=None, dataframe=None):\n",
    "    \"\"\"\n",
    "    Convert and cast DataFrame field types.\n",
    "\n",
    "    This function achieves the same purpose as pd.read_csv, but it is used on\n",
    "    actual DataFrame obtained from SQL.\n",
    "    \"\"\"\n",
    "    # field conversion\n",
    "    for var_name, lambda_string in mapper_config['converters'].items():\n",
    "        if var_name in dataframe.columns:\n",
    "            func = eval(lambda_string)\n",
    "            dataframe[var_name] = dataframe[var_name].apply(func)\n",
    "\n",
    "    # field type conversion/compression\n",
    "    dty = dict(dataframe.dtypes)\n",
    "    for col_name, actual_type in dty.items():\n",
    "        expected_type = mapper_config['columns'][col_name]['dtype']\n",
    "        if actual_type != expected_type:\n",
    "            dataframe[col_name] = dataframe[col_name].astype(expected_type)\n",
    "\n",
    "    return dataframe\n"
   ]
  },
  {
   "cell_type": "code",
   "execution_count": 6,
   "metadata": {
    "scrolled": true
   },
   "outputs": [],
   "source": [
    "# odef input_missing_values(df):\n",
    "    for col in df.columns:\n",
    "        if (df[col].dtype is float) or (df[col].dtype is int):\n",
    "            df[col] = df[col].fillna(df[col].median())\n",
    "        if (df[col].dtype == object):\n",
    "            df[col] = df[col].fillna(df[col].mode()[0])\n",
    "\n",
    "    return df\n",
    "a = input_missing_values(train)\n"
   ]
  },
  {
   "cell_type": "code",
   "execution_count": 23,
   "metadata": {},
   "outputs": [],
   "source": [
    "def parse_model(X, use_columns):\n",
    "    if \"Survived\" not in X.columns:\n",
    "        raise ValueError(\"target column survived should belong to df\")\n",
    "    target = X[\"Survived\"]\n",
    "    X = X[use_columns]\n",
    "    return X, target\n",
    "\n",
    "model_cols1 =['SibSp', 'Parch', 'Fare']\n",
    "X, y = parse_model(X=train.copy(), use_columns=model_cols1)"
   ]
  },
  {
   "cell_type": "markdown",
   "metadata": {},
   "source": [
    "split in train and test set"
   ]
  },
  {
   "cell_type": "code",
   "execution_count": 24,
   "metadata": {
    "scrolled": true
   },
   "outputs": [],
   "source": [
    "from sklearn.model_selection import cross_val_score, train_test_split\n",
    "from sklearn.linear_model import LogisticRegression"
   ]
  },
  {
   "cell_type": "code",
   "execution_count": 25,
   "metadata": {},
   "outputs": [],
   "source": [
    "X_train, X_test, y_train, y_test = train_test_split(X, y, test_size=0.2, random_state=0)"
   ]
  },
  {
   "cell_type": "markdown",
   "metadata": {},
   "source": [
    "### quick modelisation: logistics Regression \n",
    "\n"
   ]
  },
  {
   "cell_type": "code",
   "execution_count": 27,
   "metadata": {},
   "outputs": [],
   "source": [
    "lr = LogisticRegression()\n"
   ]
  },
  {
   "cell_type": "code",
   "execution_count": 28,
   "metadata": {},
   "outputs": [
    {
     "name": "stdout",
     "output_type": "stream",
     "text": [
      "Accuracy: 0.67 (+/- 0.09)\n"
     ]
    },
    {
     "data": {
      "text/plain": [
       "array([0.59776536, 0.74157303, 0.6741573 , 0.6741573 , 0.68539326])"
      ]
     },
     "execution_count": 28,
     "metadata": {},
     "output_type": "execute_result"
    }
   ],
   "source": [
    "# On utilise donc la moyenne de plusieurs validation croisées pour augmenter\n",
    "# la significativité de la validation\n",
    "def compute_score(clf, X, y, cv=5):\n",
    "    \"\"\"compute score in a classification modelisation.\n",
    "       clf: classifier\n",
    "       X: features\n",
    "       y: target\n",
    "    \"\"\"\n",
    "    xval = cross_val_score(clf, X, y, cv=5)\n",
    "    print(\"Accuracy: %0.2f (+/- %0.2f)\" % (xval.mean(), xval.std() * 2))\n",
    "    return xval\n",
    "\n",
    "\n",
    "compute_score(lr, X, y)\n",
    "# ce score est proche de la moyenne de la vingtaine de tests de validation réalisée plus haut.\n",
    "# ce qui valide la pertinence de cette stratégie de croos validation."
   ]
  },
  {
   "cell_type": "code",
   "execution_count": 15,
   "metadata": {},
   "outputs": [],
   "source": [
    "model = lr.fit(X_train, y_train)\n",
    "yhat_test = model.predict(X_test)"
   ]
  },
  {
   "cell_type": "markdown",
   "metadata": {},
   "source": [
    "##### Note: For integer/None inputs, if the estimator is a classifier and y is either binary or multiclass, StratifiedKFold is used. In all other cases, KFold is used."
   ]
  },
  {
   "cell_type": "code",
   "execution_count": 6,
   "metadata": {},
   "outputs": [
    {
     "data": {
      "text/plain": [
       "0.68687891525611244"
      ]
     },
     "execution_count": 6,
     "metadata": {},
     "output_type": "execute_result"
    }
   ],
   "source": [
    "# utiliser un simple split simple des données sera trop dépendant de l'echantillon\n",
    "# on remarque que en prenant 5% des données pour le test on a 75% de score\n",
    "# alorq que en prenant 95% on a un score de 61%\n",
    "\n",
    "list_test_size = [a/20.0 for a in list(range(0,20,1))][1:]\n",
    "scores = []\n",
    "for ts in list_test_size:\n",
    "    X_train, X_test, y_train, y_test = train_test_split(X, y, test_size=ts, random_state=0)\n",
    "    clf = lr.fit(X_train, y_train)\n",
    "    scores.append(clf.score(X_test, y_test))\n",
    "scores\n",
    "np.array(scores).mean()    "
   ]
  },
  {
   "cell_type": "markdown",
   "metadata": {},
   "source": [
    "### Etude des variables"
   ]
  },
  {
   "cell_type": "raw",
   "metadata": {},
   "source": [
    "Il existe plusieurs méthodes pour qualifier l'importance des variables dans une modélisation.\n",
    "- les tests statistiques permettent de qualifier unitairement chaque variable\n",
    "- le test du khi2 permet par exemple de verifier la dépendance entre chaque variable et la variable cible.\n",
    "- Cela nécessite d'interpréter des p-values\n",
    "- Voici une alternative simple pour qualifier l'impotance des variables dans le cas d'une modélisation."
   ]
  },
  {
   "cell_type": "code",
   "execution_count": 8,
   "metadata": {
    "collapsed": true
   },
   "outputs": [],
   "source": [
    "survived = train[train.Survived == 1]\n",
    "dead = train[train.Survived == 0]"
   ]
  },
  {
   "cell_type": "code",
   "execution_count": 5,
   "metadata": {},
   "outputs": [
    {
     "ename": "ModuleNotFoundError",
     "evalue": "No module named 'matplotlib'",
     "output_type": "error",
     "traceback": [
      "\u001b[1;31m---------------------------------------------------------------------------\u001b[0m",
      "\u001b[1;31mModuleNotFoundError\u001b[0m                       Traceback (most recent call last)",
      "\u001b[1;32m<ipython-input-5-bc38c8887b56>\u001b[0m in \u001b[0;36m<module>\u001b[1;34m\u001b[0m\n\u001b[1;32m----> 1\u001b[1;33m \u001b[1;32mimport\u001b[0m \u001b[0mmatplotlib\u001b[0m\u001b[1;33m.\u001b[0m\u001b[0mpyplot\u001b[0m \u001b[1;32mas\u001b[0m \u001b[0mplt\u001b[0m\u001b[1;33m\u001b[0m\u001b[1;33m\u001b[0m\u001b[0m\n\u001b[0m\u001b[0;32m      2\u001b[0m \u001b[1;32mfrom\u001b[0m \u001b[0mmatplotlib\u001b[0m \u001b[1;32mimport\u001b[0m \u001b[0mstyle\u001b[0m\u001b[1;33m\u001b[0m\u001b[1;33m\u001b[0m\u001b[0m\n\u001b[0;32m      3\u001b[0m \u001b[0mstyle\u001b[0m\u001b[1;33m.\u001b[0m\u001b[0muse\u001b[0m\u001b[1;33m(\u001b[0m\u001b[1;34m'fivethirtyeight'\u001b[0m\u001b[1;33m)\u001b[0m\u001b[1;33m\u001b[0m\u001b[1;33m\u001b[0m\u001b[0m\n\u001b[0;32m      4\u001b[0m \u001b[0mget_ipython\u001b[0m\u001b[1;33m(\u001b[0m\u001b[1;33m)\u001b[0m\u001b[1;33m.\u001b[0m\u001b[0mrun_line_magic\u001b[0m\u001b[1;33m(\u001b[0m\u001b[1;34m'matplotlib'\u001b[0m\u001b[1;33m,\u001b[0m \u001b[1;34m'inline'\u001b[0m\u001b[1;33m)\u001b[0m\u001b[1;33m\u001b[0m\u001b[1;33m\u001b[0m\u001b[0m\n\u001b[0;32m      5\u001b[0m \u001b[0mget_ipython\u001b[0m\u001b[1;33m(\u001b[0m\u001b[1;33m)\u001b[0m\u001b[1;33m.\u001b[0m\u001b[0mrun_line_magic\u001b[0m\u001b[1;33m(\u001b[0m\u001b[1;34m'pylab'\u001b[0m\u001b[1;33m,\u001b[0m \u001b[1;34m'inline'\u001b[0m\u001b[1;33m)\u001b[0m\u001b[1;33m\u001b[0m\u001b[1;33m\u001b[0m\u001b[0m\n",
      "\u001b[1;31mModuleNotFoundError\u001b[0m: No module named 'matplotlib'"
     ]
    }
   ],
   "source": [
    "import matplotlib.pyplot as plt\n",
    "from matplotlib import style\n",
    "style.use('fivethirtyeight')\n",
    "%matplotlib inline\n",
    "%pylab inline\n",
    "\n",
    "\n",
    "def plot_hist(feature, bins=20):\n",
    "    x1 = np.array(dead[feature].dropna())\n",
    "    x2 = np.array(survived[feature].dropna())\n",
    "    plt.hist([x1, x2], label=[\"Victime\", \"Survivant\"], bins=bins, color=['r', 'b'])\n",
    "    plt.legend(loc=\"upper left\")\n",
    "    plt.title('distribution relative de %s' %feature)\n",
    "    plt.show()\n",
    "plot_hist('Pclass')"
   ]
  },
  {
   "cell_type": "code",
   "execution_count": null,
   "metadata": {},
   "outputs": [],
   "source": [
    "#ypredproba = Reg_Log.predict_proba(X_test)[:,1]\n",
    "def My_model ( X, y, size, RdomState = 42) :\n",
    "    #X, y\n",
    "    X_train, X_test,y_train, y_test = train_test_split(X, y, test_size=size, \n",
    "                                                       random_state=RdomState )\n",
    "    model = LogisticRegression(random_state= RdomState)\n",
    "    model.fit(X_train, y_train)\n",
    "    # Run the model\n",
    "    y_pred = model.predict(X_test)\n",
    "    y_prob = model.predict_proba(X_test)[:,1]\n",
    "    score_train = model.score(X_train, y_train)\n",
    "    score_test = model.score(X_test, y_test)\n",
    "    metric = metrics.classification_report(y_test, ypred)\n",
    "    \n",
    "    return {\"y_test\": y_test, \"prediction\": y_pred, \"proba\":y_prob,\n",
    "           \"score_train\": score_train, \"score_test\": score_test,\n",
    "           \"model\": model, \"metric\": print(metric)}\n",
    "  "
   ]
  },
  {
   "cell_type": "code",
   "execution_count": null,
   "metadata": {},
   "outputs": [],
   "source": [
    "def transform_df(X, columns_to_dummify, features=[\"Pclass\"], thres=10):\n",
    "    X = convert_df_columns( X, features, type_var=\"object\")\n",
    "    X[\"is_child\"] = X[\"Age\"].apply(lambda x: 0 if x < thres else 1)\n",
    "    X[\"title\"] = X[\"Name\"].apply(lambda x: x.split(\",\")[1].split(\".\")[0].strip())\n",
    "    X['surname'] = X['Name'].map(lambda x: '(' in x)\n",
    "    for col in columns_to_dummify:\n",
    "        X_dummies = pd.get_dummies(X[col], prefix=col,\n",
    "                                   drop_first=False, dummy_na=False, prefix_sep='_')\n",
    "        X = X.join(X_dummies).drop(col, axis=1)\n",
    "    return X.drop(\"Name\", axis=1).drop(\"Age\", axis=1)"
   ]
  },
  {
   "cell_type": "raw",
   "metadata": {},
   "source": [
    "- Une majorité de victimes provient de la classe 3\n",
    "- A contrario les survivants proviennent plutot de la classe 1\n",
    "- Dans la classe 2 c'est plus difficile à discriminer\n",
    "Il faut donc l'intégrer dans le modèle"
   ]
  },
  {
   "cell_type": "code",
   "execution_count": 10,
   "metadata": {},
   "outputs": [
    {
     "name": "stderr",
     "output_type": "stream",
     "text": [
      "/Users/olaf_kouamo/anaconda2/envs/install-trivago/lib/python2.7/site-packages/pandas/core/indexing.py:549: SettingWithCopyWarning: \n",
      "A value is trying to be set on a copy of a slice from a DataFrame.\n",
      "Try using .loc[row_indexer,col_indexer] = value instead\n",
      "\n",
      "See the caveats in the documentation: http://pandas.pydata.org/pandas-docs/stable/indexing.html#indexing-view-versus-copy\n",
      "  self.obj[item_labels[indexer[info_axis]]] = value\n"
     ]
    }
   ],
   "source": [
    "from sklearn import preprocessing\n",
    "\n",
    "def dummify_features(df):\n",
    "    \"\"\"\n",
    "    Transform categorical variables to dummy variables.\n",
    "\n",
    "    Parameters\n",
    "    ----------\n",
    "    df: dataframe containing only categorical features\n",
    "\n",
    "    Returns\n",
    "    -------\n",
    "    X: new dataframe with dummified features\n",
    "       Each column name becomes the previous one + the modality of the feature\n",
    "\n",
    "    enc: the OneHotEncoder that produced X (it's used later in the processing chain)\n",
    "    \"\"\"\n",
    "    colnames = df.columns\n",
    "    le_dict = {}\n",
    "    for col in colnames:\n",
    "        le_dict[col] = preprocessing.LabelEncoder()\n",
    "        le_dict[col].fit(df[col])\n",
    "        df.loc[:, col] = le_dict[col].transform(df[col])\n",
    "\n",
    "    enc = preprocessing.OneHotEncoder()\n",
    "    enc.fit(df)\n",
    "    X = enc.transform(df)\n",
    "\n",
    "    dummy_colnames = [cv + '_' + str(modality) for cv in colnames for modality in le_dict[cv].classes_]\n",
    "    # for cv in colnames:\n",
    "    #     for modality in le_dict[cv].classes_:\n",
    "    #         dummy_colnames.append(cv + '_' + modality)\n",
    "\n",
    "    return X, dummy_colnames, enc\n",
    "to_dummify = [\"Pclass\"]\n",
    "X_dummy, dummy_columns, dummy_encoder = dummify_features(train[to_dummify])\n",
    "X_dummy = pd.DataFrame(X_dummy.toarray(), columns=dummy_columns)"
   ]
  },
  {
   "cell_type": "code",
   "execution_count": 11,
   "metadata": {},
   "outputs": [
    {
     "name": "stdout",
     "output_type": "stream",
     "text": [
      "Accuracy: 0.69 (+/- 0.11)\n"
     ]
    },
    {
     "data": {
      "text/plain": [
       "array([ 0.60335196,  0.69832402,  0.67977528,  0.71348315,  0.76836158])"
      ]
     },
     "execution_count": 11,
     "metadata": {},
     "output_type": "execute_result"
    }
   ],
   "source": [
    "X = X.join(X_dummy)\n",
    "\n",
    "compute_score(lr, X, y)"
   ]
  },
  {
   "cell_type": "raw",
   "metadata": {},
   "source": [
    "intéressons nous au poids que la regression logistique accorde a chaque variable\n",
    "- un poids positif augmente la proba de survi tandis qu'un poids negatif la diminue.\n",
    "- un poids proche de zéro signifie que cette varible est très peu discriminante par rapport à la cible dans le cadre d'une regression logistique."
   ]
  },
  {
   "cell_type": "code",
   "execution_count": 12,
   "metadata": {},
   "outputs": [
    {
     "data": {
      "text/plain": [
       "array([[-0.150896  ,  0.23357229,  0.00669907,  0.3730938 ,  0.100852  ,\n",
       "        -0.85258357]])"
      ]
     },
     "execution_count": 12,
     "metadata": {},
     "output_type": "execute_result"
    }
   ],
   "source": [
    "lr.fit(X, y)\n",
    "lr.coef_"
   ]
  },
  {
   "cell_type": "code",
   "execution_count": 13,
   "metadata": {},
   "outputs": [
    {
     "data": {
      "text/html": [
       "<div>\n",
       "<table border=\"1\" class=\"dataframe\">\n",
       "  <thead>\n",
       "    <tr style=\"text-align: right;\">\n",
       "      <th></th>\n",
       "      <th>SibSp</th>\n",
       "      <th>Parch</th>\n",
       "      <th>Fare</th>\n",
       "      <th>Pclass_1</th>\n",
       "      <th>Pclass_2</th>\n",
       "      <th>Pclass_3</th>\n",
       "    </tr>\n",
       "  </thead>\n",
       "  <tbody>\n",
       "    <tr>\n",
       "      <th>0</th>\n",
       "      <td>1</td>\n",
       "      <td>0</td>\n",
       "      <td>7.2500</td>\n",
       "      <td>0.0</td>\n",
       "      <td>0.0</td>\n",
       "      <td>1.0</td>\n",
       "    </tr>\n",
       "    <tr>\n",
       "      <th>1</th>\n",
       "      <td>1</td>\n",
       "      <td>0</td>\n",
       "      <td>71.2833</td>\n",
       "      <td>1.0</td>\n",
       "      <td>0.0</td>\n",
       "      <td>0.0</td>\n",
       "    </tr>\n",
       "    <tr>\n",
       "      <th>2</th>\n",
       "      <td>0</td>\n",
       "      <td>0</td>\n",
       "      <td>7.9250</td>\n",
       "      <td>0.0</td>\n",
       "      <td>0.0</td>\n",
       "      <td>1.0</td>\n",
       "    </tr>\n",
       "    <tr>\n",
       "      <th>3</th>\n",
       "      <td>1</td>\n",
       "      <td>0</td>\n",
       "      <td>53.1000</td>\n",
       "      <td>1.0</td>\n",
       "      <td>0.0</td>\n",
       "      <td>0.0</td>\n",
       "    </tr>\n",
       "    <tr>\n",
       "      <th>4</th>\n",
       "      <td>0</td>\n",
       "      <td>0</td>\n",
       "      <td>8.0500</td>\n",
       "      <td>0.0</td>\n",
       "      <td>0.0</td>\n",
       "      <td>1.0</td>\n",
       "    </tr>\n",
       "  </tbody>\n",
       "</table>\n",
       "</div>"
      ],
      "text/plain": [
       "   SibSp  Parch     Fare  Pclass_1  Pclass_2  Pclass_3\n",
       "0      1      0   7.2500       0.0       0.0       1.0\n",
       "1      1      0  71.2833       1.0       0.0       0.0\n",
       "2      0      0   7.9250       0.0       0.0       1.0\n",
       "3      1      0  53.1000       1.0       0.0       0.0\n",
       "4      0      0   8.0500       0.0       0.0       1.0"
      ]
     },
     "execution_count": 13,
     "metadata": {},
     "output_type": "execute_result"
    }
   ],
   "source": [
    "X.head()"
   ]
  },
  {
   "cell_type": "code",
   "execution_count": 37,
   "metadata": {},
   "outputs": [
    {
     "name": "stdout",
     "output_type": "stream",
     "text": [
      "Accuracy: 0.79 (+/- 0.05)\n"
     ]
    },
    {
     "data": {
      "text/plain": [
       "array([ 0.7877095 ,  0.77653631,  0.78089888,  0.75842697,  0.83050847])"
      ]
     },
     "execution_count": 37,
     "metadata": {},
     "output_type": "execute_result"
    }
   ],
   "source": [
    "def parse_model2(X):\n",
    "    if \"Survived\" not in X.columns:\n",
    "        raise ValueError(\"target column survived should belong to df\")\n",
    "    target = X[\"Survived\"]\n",
    "    to_dummy = ['Pclass', 'Sex']\n",
    "    for dum in to_dummy:\n",
    "        split_temp = pd.get_dummies(X[dum], prefix=dum)\n",
    "        for col in split_temp:\n",
    "            X[col] = split_temp[col]\n",
    "        del X[dum]\n",
    "    X['Age'] = X['Age'].fillna(X['Age'].median())\n",
    "    to_del = [\"PassengerId\", \"Name\", \"Cabin\", \"Embarked\", \"Survived\", \"Ticket\"]\n",
    "    for col in to_del:\n",
    "        del X[col]\n",
    "    return X, target\n",
    "X, y = parse_model2(train.copy())\n",
    "compute_score(lr, X, y)"
   ]
  },
  {
   "cell_type": "code",
   "execution_count": 15,
   "metadata": {},
   "outputs": [
    {
     "data": {
      "text/html": [
       "<div>\n",
       "<table border=\"1\" class=\"dataframe\">\n",
       "  <thead>\n",
       "    <tr style=\"text-align: right;\">\n",
       "      <th></th>\n",
       "      <th>0</th>\n",
       "      <th>1</th>\n",
       "      <th>2</th>\n",
       "      <th>3</th>\n",
       "      <th>4</th>\n",
       "      <th>5</th>\n",
       "      <th>6</th>\n",
       "      <th>7</th>\n",
       "      <th>8</th>\n",
       "    </tr>\n",
       "  </thead>\n",
       "  <tbody>\n",
       "    <tr>\n",
       "      <th>0</th>\n",
       "      <td>Age</td>\n",
       "      <td>SibSp</td>\n",
       "      <td>Parch</td>\n",
       "      <td>Fare</td>\n",
       "      <td>Pclass_1</td>\n",
       "      <td>Pclass_2</td>\n",
       "      <td>Pclass_3</td>\n",
       "      <td>Sex_female</td>\n",
       "      <td>Sex_male</td>\n",
       "    </tr>\n",
       "    <tr>\n",
       "      <th>1</th>\n",
       "      <td>-0.0366643</td>\n",
       "      <td>-0.334937</td>\n",
       "      <td>-0.103368</td>\n",
       "      <td>0.00353497</td>\n",
       "      <td>1.21065</td>\n",
       "      <td>0.284817</td>\n",
       "      <td>-0.811267</td>\n",
       "      <td>1.68324</td>\n",
       "      <td>-0.99904</td>\n",
       "    </tr>\n",
       "  </tbody>\n",
       "</table>\n",
       "</div>"
      ],
      "text/plain": [
       "           0         1         2           3         4         5         6  \\\n",
       "0        Age     SibSp     Parch        Fare  Pclass_1  Pclass_2  Pclass_3   \n",
       "1 -0.0366643 -0.334937 -0.103368  0.00353497   1.21065  0.284817 -0.811267   \n",
       "\n",
       "            7         8  \n",
       "0  Sex_female  Sex_male  \n",
       "1     1.68324  -0.99904  "
      ]
     },
     "execution_count": 15,
     "metadata": {},
     "output_type": "execute_result"
    }
   ],
   "source": [
    "lr.fit(X, y)\n",
    "coef = pd.DataFrame([list(X.columns), list(lr.coef_[0])])\n",
    "coef"
   ]
  },
  {
   "cell_type": "raw",
   "metadata": {},
   "source": [
    "La variable sex ameliore sensiblement le score\n",
    "Par contre pas d'effet de la variable age. Ce qui est surprenant car on embarquait les enfants et les femmes d'abord.\n",
    "Comme on peut le contater, il y'a bcp de survivant chez les enfants.\n",
    "En considerant la variable is_child, on améliore encore le score."
   ]
  },
  {
   "cell_type": "code",
   "execution_count": 16,
   "metadata": {
    "scrolled": true
   },
   "outputs": [
    {
     "data": {
      "text/html": [
       "<div>\n",
       "<table border=\"1\" class=\"dataframe\">\n",
       "  <thead>\n",
       "    <tr style=\"text-align: right;\">\n",
       "      <th></th>\n",
       "      <th>predicted</th>\n",
       "      <th>observed</th>\n",
       "    </tr>\n",
       "  </thead>\n",
       "  <tbody>\n",
       "    <tr>\n",
       "      <th>0</th>\n",
       "      <td>0</td>\n",
       "      <td>0</td>\n",
       "    </tr>\n",
       "    <tr>\n",
       "      <th>1</th>\n",
       "      <td>1</td>\n",
       "      <td>1</td>\n",
       "    </tr>\n",
       "    <tr>\n",
       "      <th>2</th>\n",
       "      <td>1</td>\n",
       "      <td>1</td>\n",
       "    </tr>\n",
       "    <tr>\n",
       "      <th>3</th>\n",
       "      <td>1</td>\n",
       "      <td>1</td>\n",
       "    </tr>\n",
       "    <tr>\n",
       "      <th>4</th>\n",
       "      <td>0</td>\n",
       "      <td>0</td>\n",
       "    </tr>\n",
       "  </tbody>\n",
       "</table>\n",
       "</div>"
      ],
      "text/plain": [
       "   predicted  observed\n",
       "0          0         0\n",
       "1          1         1\n",
       "2          1         1\n",
       "3          1         1\n",
       "4          0         0"
      ]
     },
     "execution_count": 16,
     "metadata": {},
     "output_type": "execute_result"
    }
   ],
   "source": [
    "pred = lr.predict(X)\n",
    "raw = {\"predicted\": pred, \"observed\": y}\n",
    "df_pred = pd.DataFrame(raw, columns=[\"predicted\", \"observed\"])\n",
    "m=df_pred[\"predicted\"]==1\n",
    "#ac = df_pred[m]\n",
    "#bd = df_pred[~m]\n",
    "df_pred.head()"
   ]
  },
  {
   "cell_type": "code",
   "execution_count": 17,
   "metadata": {},
   "outputs": [
    {
     "data": {
      "text/plain": [
       "0.76298701298701299"
      ]
     },
     "execution_count": 17,
     "metadata": {},
     "output_type": "execute_result"
    }
   ],
   "source": [
    "from sklearn import metrics\n",
    "metrics.precision_score(y, pred)"
   ]
  },
  {
   "cell_type": "code",
   "execution_count": 18,
   "metadata": {},
   "outputs": [
    {
     "data": {
      "text/plain": [
       "0.6871345029239766"
      ]
     },
     "execution_count": 18,
     "metadata": {},
     "output_type": "execute_result"
    }
   ],
   "source": [
    "metrics.recall_score(y, pred)"
   ]
  },
  {
   "cell_type": "code",
   "execution_count": 19,
   "metadata": {},
   "outputs": [
    {
     "data": {
      "text/plain": [
       "0.762987012987013"
      ]
     },
     "execution_count": 19,
     "metadata": {},
     "output_type": "execute_result"
    }
   ],
   "source": [
    "m=df_pred[\"predicted\"]==1\n",
    "df_hat1 = df_pred[m]\n",
    "m.sum()\n",
    "err1 = df_hat1['observed'] ==1\n",
    "float(err1.sum())/m.sum()"
   ]
  },
  {
   "cell_type": "markdown",
   "metadata": {},
   "source": [
    "#### precision and recall"
   ]
  },
  {
   "cell_type": "code",
   "execution_count": 20,
   "metadata": {},
   "outputs": [],
   "source": [
    "from sklearn.linear_model import LogisticRegression\n",
    "features_train, features_test, target_train, target_test = train_test_split(X, y, test_size=0.7, random_state=0)\n",
    "    \n",
    "model = LogisticRegression()\n",
    "model.fit(features_train, target_train)\n",
    "probs = model.predict_proba(features_test)\n",
    "target_predicted = model.predict(features_test)\n",
    "\n",
    "y_chap = probs[:,1]\n",
    "\n",
    "y_chap_df = pd.DataFrame({'prob_1' : pd.Series(y_chap),\n",
    "                          'y_chap_1' : pd.Series(target_predicted)})\n",
    "\n"
   ]
  },
  {
   "cell_type": "code",
   "execution_count": 24,
   "metadata": {},
   "outputs": [
    {
     "data": {
      "text/plain": [
       "array([[ 0.86171545,  0.13828455],\n",
       "       [ 0.86460404,  0.13539596],\n",
       "       [ 0.95583334,  0.04416666],\n",
       "       [ 0.04202389,  0.95797611]])"
      ]
     },
     "execution_count": 24,
     "metadata": {},
     "output_type": "execute_result"
    }
   ],
   "source": [
    "probs[0:4]"
   ]
  },
  {
   "cell_type": "code",
   "execution_count": 22,
   "metadata": {},
   "outputs": [
    {
     "data": {
      "text/html": [
       "<div>\n",
       "<table border=\"1\" class=\"dataframe\">\n",
       "  <thead>\n",
       "    <tr style=\"text-align: right;\">\n",
       "      <th></th>\n",
       "      <th>prob_1</th>\n",
       "      <th>y_chap_1</th>\n",
       "    </tr>\n",
       "  </thead>\n",
       "  <tbody>\n",
       "    <tr>\n",
       "      <th>0</th>\n",
       "      <td>0.138285</td>\n",
       "      <td>0</td>\n",
       "    </tr>\n",
       "    <tr>\n",
       "      <th>1</th>\n",
       "      <td>0.135396</td>\n",
       "      <td>0</td>\n",
       "    </tr>\n",
       "    <tr>\n",
       "      <th>2</th>\n",
       "      <td>0.044167</td>\n",
       "      <td>0</td>\n",
       "    </tr>\n",
       "    <tr>\n",
       "      <th>3</th>\n",
       "      <td>0.957976</td>\n",
       "      <td>1</td>\n",
       "    </tr>\n",
       "    <tr>\n",
       "      <th>4</th>\n",
       "      <td>0.708058</td>\n",
       "      <td>1</td>\n",
       "    </tr>\n",
       "  </tbody>\n",
       "</table>\n",
       "</div>"
      ],
      "text/plain": [
       "     prob_1  y_chap_1\n",
       "0  0.138285         0\n",
       "1  0.135396         0\n",
       "2  0.044167         0\n",
       "3  0.957976         1\n",
       "4  0.708058         1"
      ]
     },
     "execution_count": 22,
     "metadata": {},
     "output_type": "execute_result"
    }
   ],
   "source": [
    "y_chap_df.head()"
   ]
  },
  {
   "cell_type": "code",
   "execution_count": 21,
   "metadata": {},
   "outputs": [
    {
     "data": {
      "text/plain": [
       "0.77403846153846156"
      ]
     },
     "execution_count": 21,
     "metadata": {},
     "output_type": "execute_result"
    }
   ],
   "source": [
    "model.score(features_test, target_test)"
   ]
  },
  {
   "cell_type": "code",
   "execution_count": 60,
   "metadata": {},
   "outputs": [
    {
     "data": {
      "text/html": [
       "<div>\n",
       "<table border=\"1\" class=\"dataframe\">\n",
       "  <thead>\n",
       "    <tr style=\"text-align: right;\">\n",
       "      <th></th>\n",
       "      <th>cible</th>\n",
       "      <th>effectif</th>\n",
       "    </tr>\n",
       "    <tr>\n",
       "      <th>deciles</th>\n",
       "      <th></th>\n",
       "      <th></th>\n",
       "    </tr>\n",
       "  </thead>\n",
       "  <tbody>\n",
       "    <tr>\n",
       "      <th>[0.00372, 0.0953]</th>\n",
       "      <td>18.0</td>\n",
       "      <td>42</td>\n",
       "    </tr>\n",
       "    <tr>\n",
       "      <th>(0.0953, 0.135]</th>\n",
       "      <td>15.0</td>\n",
       "      <td>50</td>\n",
       "    </tr>\n",
       "    <tr>\n",
       "      <th>(0.135, 0.144]</th>\n",
       "      <td>16.0</td>\n",
       "      <td>44</td>\n",
       "    </tr>\n",
       "    <tr>\n",
       "      <th>(0.144, 0.173]</th>\n",
       "      <td>10.0</td>\n",
       "      <td>37</td>\n",
       "    </tr>\n",
       "    <tr>\n",
       "      <th>(0.173, 0.272]</th>\n",
       "      <td>18.0</td>\n",
       "      <td>45</td>\n",
       "    </tr>\n",
       "  </tbody>\n",
       "</table>\n",
       "</div>"
      ],
      "text/plain": [
       "                   cible  effectif\n",
       "deciles                           \n",
       "[0.00372, 0.0953]   18.0        42\n",
       "(0.0953, 0.135]     15.0        50\n",
       "(0.135, 0.144]      16.0        44\n",
       "(0.144, 0.173]      10.0        37\n",
       "(0.173, 0.272]      18.0        45"
      ]
     },
     "execution_count": 60,
     "metadata": {},
     "output_type": "execute_result"
    }
   ],
   "source": [
    "df_proba = pd.DataFrame({'proba' : pd.Series(y_chap_df['prob_1']),\n",
    "                         'predict': pd.Series(y_chap_df['y_chap_1']),\n",
    "                         'cible' : pd.Series(target_test),\n",
    "                         'deciles' : pd.Series(pd.qcut(y_chap_df['prob_1'], 10))})\n",
    "grouped = df_proba.groupby('deciles')\n",
    "sum_g = grouped.sum()\n",
    "count_g = grouped.count()\n",
    "\n",
    "###############\n",
    "lift_log = pd.DataFrame({'cible' : pd.Series(sum_g['cible']),\n",
    "                         'effectif' : pd.Series(count_g['cible'])})\n",
    "lift_log.head()"
   ]
  },
  {
   "cell_type": "code",
   "execution_count": 63,
   "metadata": {},
   "outputs": [
    {
     "data": {
      "text/plain": [
       "0.7097170971709718"
      ]
     },
     "execution_count": 63,
     "metadata": {},
     "output_type": "execute_result"
    }
   ],
   "source": [
    "m = df_proba['cible'] != df_proba['predict']\n",
    "float(m.sum()) / len(m)"
   ]
  },
  {
   "cell_type": "code",
   "execution_count": null,
   "metadata": {
    "collapsed": true
   },
   "outputs": [],
   "source": []
  },
  {
   "cell_type": "code",
   "execution_count": null,
   "metadata": {
    "collapsed": true
   },
   "outputs": [],
   "source": []
  },
  {
   "cell_type": "code",
   "execution_count": null,
   "metadata": {
    "collapsed": true
   },
   "outputs": [],
   "source": []
  },
  {
   "cell_type": "code",
   "execution_count": null,
   "metadata": {
    "collapsed": true
   },
   "outputs": [],
   "source": [
    "from sklearn.linear_model import LogisticRegression\n",
    "    \n",
    "model = LogisticRegression()\n",
    "model.fit(features_train, target_train)\n",
    "\n",
    "probs = model.predict_proba(features_test)\n",
    "target_predicted = model.predict(features_test)\n",
    "\n",
    "y_chap = probs[:,1]\n",
    "\n",
    "y_chap_df = pd.DataFrame({'prob_1' : pd.Series(y_chap),\n",
    "                          'y_chap_1' : pd.Series(target_predicted)})\n",
    "###############\n",
    "y_chap_df_log = pd.DataFrame({'prob_1' : pd.Series(y_chap),\n",
    "                          'y_chap_1' : pd.Series(target_predicted)})\n",
    "\n",
    "df_proba = pd.DataFrame({'proba' : pd.Series(y_chap_df['prob_1']),\n",
    "                         'cible' : pd.Series(target_test),\n",
    "                         'deciles' : pd.Series(pd.qcut(y_chap_df['prob_1'], 10))})\n",
    "grouped = df_proba.groupby('deciles')\n",
    "sum_g = grouped.sum()\n",
    "count_g = grouped.count()\n",
    "\n",
    "###############\n",
    "lift_log = pd.DataFrame({'cible' : pd.Series(sum_g['cible']),\n",
    "                         'effectif' : pd.Series(count_g['cible'])})"
   ]
  },
  {
   "cell_type": "code",
   "execution_count": 31,
   "metadata": {},
   "outputs": [
    {
     "ename": "NameError",
     "evalue": "name 'features_train' is not defined",
     "output_type": "error",
     "traceback": [
      "\u001b[0;31m---------------------------------------------------------------------------\u001b[0m",
      "\u001b[0;31mNameError\u001b[0m                                 Traceback (most recent call last)",
      "\u001b[0;32m<ipython-input-31-b36423773726>\u001b[0m in \u001b[0;36m<module>\u001b[0;34m()\u001b[0m\n\u001b[1;32m      2\u001b[0m \u001b[0;34m\u001b[0m\u001b[0m\n\u001b[1;32m      3\u001b[0m \u001b[0mmodel\u001b[0m \u001b[0;34m=\u001b[0m \u001b[0mRandomForestClassifier\u001b[0m\u001b[0;34m(\u001b[0m\u001b[0mmin_samples_split\u001b[0m\u001b[0;34m=\u001b[0m \u001b[0;36m10\u001b[0m\u001b[0;34m,\u001b[0m \u001b[0mmin_samples_leaf\u001b[0m\u001b[0;34m=\u001b[0m \u001b[0;36m5\u001b[0m\u001b[0;34m,\u001b[0m \u001b[0mn_estimators\u001b[0m\u001b[0;34m=\u001b[0m \u001b[0;36m50\u001b[0m\u001b[0;34m,\u001b[0m \u001b[0mmax_depth\u001b[0m\u001b[0;34m=\u001b[0m \u001b[0;36m25\u001b[0m\u001b[0;34m)\u001b[0m\u001b[0;34m\u001b[0m\u001b[0m\n\u001b[0;32m----> 4\u001b[0;31m \u001b[0mmodel\u001b[0m\u001b[0;34m.\u001b[0m\u001b[0mfit\u001b[0m\u001b[0;34m(\u001b[0m\u001b[0mfeatures_train\u001b[0m\u001b[0;34m,\u001b[0m \u001b[0mtarget_train\u001b[0m\u001b[0;34m)\u001b[0m\u001b[0;34m\u001b[0m\u001b[0m\n\u001b[0m\u001b[1;32m      5\u001b[0m \u001b[0;34m\u001b[0m\u001b[0m\n\u001b[1;32m      6\u001b[0m \u001b[0mprobs\u001b[0m \u001b[0;34m=\u001b[0m \u001b[0mmodel\u001b[0m\u001b[0;34m.\u001b[0m\u001b[0mpredict_proba\u001b[0m\u001b[0;34m(\u001b[0m\u001b[0mfeatures_test\u001b[0m\u001b[0;34m)\u001b[0m\u001b[0;34m\u001b[0m\u001b[0m\n",
      "\u001b[0;31mNameError\u001b[0m: name 'features_train' is not defined"
     ]
    }
   ],
   "source": [
    "from sklearn.ensemble import RandomForestClassifier\n",
    "    \n",
    "model = RandomForestClassifier(min_samples_split= 10, min_samples_leaf= 5, n_estimators= 50, max_depth= 25)\n",
    "model.fit(features_train, target_train)\n",
    "\n",
    "probs = model.predict_proba(features_test)\n",
    "target_predicted = model.predict(features_test)\n",
    "\n",
    "y_chap = probs[:,1]\n",
    "\n",
    "y_chap_df = pd.DataFrame({'prob_1' : pd.Series(y_chap),\n",
    "                          'y_chap_1' : pd.Series(target_predicted)})\n",
    "###############\n",
    "y_chap_df_forest = pd.DataFrame({'prob_1' : pd.Series(y_chap),\n",
    "                          'y_chap_1' : pd.Series(target_predicted)})\n",
    "\n",
    "df_proba = pd.DataFrame({'proba' : pd.Series(y_chap_df['prob_1']),\n",
    "                         'cible' : pd.Series(target_test),\n",
    "                         'deciles' : pd.Series(pd.qcut(y_chap_df['prob_1'], 10))})\n",
    "grouped = df_proba.groupby('deciles')\n",
    "sum_g = grouped.sum()\n",
    "count_g = grouped.count()\n",
    "\n",
    "###############\n",
    "lift_forest = pd.DataFrame({'cible' : pd.Series(sum_g['cible']),\n",
    "                         'effectif' : pd.Series(count_g['cible'])})"
   ]
  },
  {
   "cell_type": "code",
   "execution_count": null,
   "metadata": {
    "collapsed": true
   },
   "outputs": [],
   "source": [
    "from sklearn.ensemble import GradientBoostingClassifier\n",
    "    \n",
    "model = GradientBoostingClassifier(n_estimators=200, learning_rate=0.1, max_depth=5, random_state=0)\n",
    "model.fit(features_train, target_train)\n",
    "\n",
    "probs = model.predict_proba(features_test)\n",
    "target_predicted = model.predict(features_test)\n",
    "\n",
    "y_chap = probs[:,1]\n",
    "\n",
    "y_chap_df = pd.DataFrame({'prob_1' : pd.Series(y_chap),\n",
    "                          'y_chap_1' : pd.Series(target_predicted)})\n",
    "###############\n",
    "y_chap_df_gdt = pd.DataFrame({'prob_1' : pd.Series(y_chap),\n",
    "                          'y_chap_1' : pd.Series(target_predicted)})\n",
    "\n",
    "df_proba = pd.DataFrame({'proba' : pd.Series(y_chap_df['prob_1']),\n",
    "                         'cible' : pd.Series(target_test),\n",
    "                         'deciles' : pd.Series(pd.qcut(y_chap_df['prob_1'], 10))})\n",
    "grouped = df_proba.groupby('deciles')\n",
    "sum_g = grouped.sum()\n",
    "count_g = grouped.count()\n",
    "\n",
    "###############\n",
    "lift_gdt = pd.DataFrame({'cible' : pd.Series(sum_g['cible']),\n",
    "                         'effectif' : pd.Series(count_g['cible'])})"
   ]
  },
  {
   "cell_type": "code",
   "execution_count": null,
   "metadata": {
    "collapsed": true
   },
   "outputs": [],
   "source": [
    "## F SCORE\n",
    "\n",
    "from sklearn import metrics\n",
    "import numpy\n",
    "\n",
    "i = 0\n",
    "seuil = []\n",
    "f1_score_log = []\n",
    "f1_score_gdt = []\n",
    "f1_score_forest = []\n",
    "while i < 0.99:\n",
    "    i += 0.01\n",
    "    seuil.append(i)\n",
    "    def f(x):\n",
    "        if x > i:\n",
    "            return 1\n",
    "        else:\n",
    "            return 0\n",
    "    test_log = y_chap_df_log['prob_1'].apply(f)\n",
    "    test_gdt = y_chap_df_gdt['prob_1'].apply(f)\n",
    "    test_forest = y_chap_df_forest['prob_1'].apply(f)\n",
    "    f1_score_log.append(metrics.f1_score(target_test, test_log))\n",
    "    f1_score_gdt.append(metrics.f1_score(target_test, test_gdt))\n",
    "    f1_score_forest.append(metrics.f1_score(target_test, test_forest))\n",
    "\n",
    "import seaborn\n",
    "%matplotlib inline\n",
    "pd.options.display.mpl_style = 'default'\n",
    "\n",
    "graph = pd.DataFrame({ \n",
    "        'seuil' : pd.Series(seuil),\n",
    "        'f1_score_log' : pd.Series(f1_score_log),\n",
    "        'f1_score_gdt' : pd.Series(f1_score_gdt),\n",
    "        'f1_score_forest' : pd.Series(f1_score_forest)\n",
    "    }).set_index(['seuil'])\n",
    "\n",
    "graph.plot()"
   ]
  },
  {
   "cell_type": "code",
   "execution_count": null,
   "metadata": {
    "collapsed": true
   },
   "outputs": [],
   "source": [
    "## F2 SCORE\n",
    "\n",
    "from sklearn import metrics\n",
    "import numpy\n",
    "\n",
    "i = 0\n",
    "seuil = []\n",
    "f2_score_log = []\n",
    "f2_score_gdt = []\n",
    "f2_score_forest = []\n",
    "while i < 0.99:\n",
    "    i += 0.01\n",
    "    seuil.append(i)\n",
    "    def f(x):\n",
    "        if x > i:\n",
    "            return 1\n",
    "        else:\n",
    "            return 0\n",
    "    test_log = y_chap_df_log['prob_1'].apply(f)\n",
    "    test_gdt = y_chap_df_gdt['prob_1'].apply(f)\n",
    "    test_forest = y_chap_df_forest['prob_1'].apply(f)\n",
    "    f2_score_log.append(metrics.fbeta_score(target_test, test_log, beta=2.0))\n",
    "    f2_score_gdt.append(metrics.fbeta_score(target_test, test_gdt, beta=2.0))\n",
    "    f2_score_forest.append(metrics.fbeta_score(target_test, test_forest, beta=2.0))\n",
    "\n",
    "import seaborn\n",
    "%matplotlib inline\n",
    "pd.options.display.mpl_style = 'default'\n",
    "\n",
    "graph = pd.DataFrame({ \n",
    "        'seuil' : pd.Series(seuil),\n",
    "        'f2_score_log' : pd.Series(f2_score_log),\n",
    "        'f2_score_gdt' : pd.Series(f2_score_gdt),\n",
    "        'f2_score_forest' : pd.Series(f2_score_forest)\n",
    "    }).set_index(['seuil'])\n",
    "\n",
    "graph.plot(title = 'f2-score')"
   ]
  },
  {
   "cell_type": "code",
   "execution_count": null,
   "metadata": {
    "collapsed": true
   },
   "outputs": [],
   "source": [
    "## PRECISION\n",
    "\n",
    "from sklearn import metrics\n",
    "import numpy\n",
    "\n",
    "i = 0\n",
    "seuil = []\n",
    "precision_log = []\n",
    "precision_gdt = []\n",
    "precision_forest = []\n",
    "while i < 0.99:\n",
    "    i += 0.01\n",
    "    seuil.append(i)\n",
    "    def f(x):\n",
    "        if x > i:\n",
    "            return 1\n",
    "        else:\n",
    "            return 0\n",
    "    test_log = y_chap_df_log['prob_1'].apply(f)\n",
    "    test_gdt = y_chap_df_gdt['prob_1'].apply(f)\n",
    "    test_forest = y_chap_df_forest['prob_1'].apply(f)\n",
    "    precision_log.append(metrics.precision_score(target_test, test_log))\n",
    "    precision_gdt.append(metrics.precision_score(target_test, test_gdt))\n",
    "    precision_forest.append(metrics.precision_score(target_test, test_forest))\n",
    "\n",
    "import seaborn\n",
    "%matplotlib inline\n",
    "pd.options.display.mpl_style = 'default'\n",
    "\n",
    "graph = pd.DataFrame({ \n",
    "        'seuil' : pd.Series(seuil),\n",
    "        'precision_log' : pd.Series(precision_log),\n",
    "        'precision_gdt' : pd.Series(precision_gdt),\n",
    "        'precision_forest' : pd.Series(precision_forest)\n",
    "    }).set_index(['seuil'])\n",
    "\n",
    "graph.plot()"
   ]
  },
  {
   "cell_type": "code",
   "execution_count": null,
   "metadata": {
    "collapsed": true
   },
   "outputs": [],
   "source": [
    "## RECALL\n",
    "\n",
    "from sklearn import metrics\n",
    "import numpy\n",
    "\n",
    "i = 0\n",
    "seuil = []\n",
    "recall_log = []\n",
    "recall_gdt = []\n",
    "recall_forest = []\n",
    "while i < 0.99:\n",
    "    i += 0.01\n",
    "    seuil.append(i)\n",
    "    def f(x):\n",
    "        if x > i:\n",
    "            return 1\n",
    "        else:\n",
    "            return 0\n",
    "    test_log = y_chap_df_log['prob_1'].apply(f)\n",
    "    test_gdt = y_chap_df_gdt['prob_1'].apply(f)\n",
    "    test_forest = y_chap_df_forest['prob_1'].apply(f)\n",
    "    recall_log.append(metrics.recall_score(target_test, test_log))\n",
    "    recall_gdt.append(metrics.recall_score(target_test, test_gdt))\n",
    "    recall_forest.append(metrics.recall_score(target_test, test_forest))\n",
    "\n",
    "import seaborn\n",
    "%matplotlib inline\n",
    "pd.options.display.mpl_style = 'default'\n",
    "\n",
    "graph = pd.DataFrame({ \n",
    "        'seuil' : pd.Series(seuil),\n",
    "        'recall_log' : pd.Series(recall_log),\n",
    "        'recall_gdt' : pd.Series(recall_gdt),\n",
    "        'recall_forest' : pd.Series(recall_forest)\n",
    "    }).set_index(['seuil'])\n",
    "\n",
    "graph.plot()"
   ]
  },
  {
   "cell_type": "code",
   "execution_count": null,
   "metadata": {
    "collapsed": true
   },
   "outputs": [],
   "source": [
    "lift_test = lift_log.sort_index(by=['cible'], ascending=False)\n",
    "lift_cum = lift_test.cumsum()\n",
    "val_log = lift_cum['cible'].values/lift_cum['cible'].values.max()"
   ]
  },
  {
   "cell_type": "code",
   "execution_count": null,
   "metadata": {
    "collapsed": true
   },
   "outputs": [],
   "source": [
    "lift_test = lift_forest.sort_index(by=['cible'], ascending=False)\n",
    "lift_cum = lift_test.cumsum()\n",
    "val_forest = lift_cum['cible'].values/lift_cum['cible'].values.max()"
   ]
  },
  {
   "cell_type": "code",
   "execution_count": null,
   "metadata": {
    "collapsed": true
   },
   "outputs": [],
   "source": [
    "lift_test = lift_gdt.sort_index(by=['cible'], ascending=False)\n",
    "lift_cum = lift_test.cumsum()\n",
    "val_gdt = lift_cum['cible'].values/lift_cum['cible'].values.max()"
   ]
  },
  {
   "cell_type": "code",
   "execution_count": null,
   "metadata": {
    "collapsed": true
   },
   "outputs": [],
   "source": [
    "df_lift = pd.DataFrame({'lift_log' : pd.Series(val_log),\n",
    "                        'lift_gdt' : pd.Series(val_gdt),\n",
    "                        'lift_forest' : pd.Series(val_forest)})\n",
    "\n",
    "(df_lift).plot(title = 'courbe de lift', \n",
    "              ylim = [0, 1.1],\n",
    "              xlim = [-1, 9])\n"
   ]
  },
  {
   "cell_type": "markdown",
   "metadata": {},
   "source": [
    "## Data Iris"
   ]
  },
  {
   "cell_type": "code",
   "execution_count": 27,
   "metadata": {},
   "outputs": [],
   "source": [
    "from sklearn import svm, datasets\n",
    "from sklearn.cross_validation import train_test_split\n",
    "import numpy as np\n",
    "\n",
    "iris = datasets.load_iris()\n",
    "X = iris.data\n",
    "y = iris.target\n",
    "\n",
    "# Add noisy features\n",
    "random_state = np.random.RandomState(0)\n",
    "n_samples, n_features = X.shape\n",
    "X = np.c_[X, random_state.randn(n_samples, 200 * n_features)]\n",
    "\n",
    "# Limit to the two first classes, and split into training and test\n",
    "X_train, X_test, y_train, y_test = train_test_split(X[y < 2], y[y < 2],\n",
    "                                                    test_size=.5,\n",
    "                                                    random_state=random_state)\n",
    "\n",
    "# Create a simple classifier\n",
    "classifier = svm.LinearSVC(random_state=random_state)\n",
    "classifier.fit(X_train, y_train)\n",
    "y_score = classifier.decision_function(X_test)"
   ]
  },
  {
   "cell_type": "code",
   "execution_count": 28,
   "metadata": {},
   "outputs": [
    {
     "name": "stdout",
     "output_type": "stream",
     "text": [
      "Average precision-recall score: 0.88\n"
     ]
    }
   ],
   "source": [
    "from sklearn.metrics import average_precision_score\n",
    "average_precision = average_precision_score(y_test, y_score)\n",
    "\n",
    "print('Average precision-recall score: {0:0.2f}'.format(\n",
    "      average_precision))"
   ]
  },
  {
   "cell_type": "code",
   "execution_count": 38,
   "metadata": {},
   "outputs": [
    {
     "data": {
      "text/plain": [
       "<matplotlib.text.Text at 0x11aa4a410>"
      ]
     },
     "execution_count": 38,
     "metadata": {},
     "output_type": "execute_result"
    },
    {
     "data": {
      "image/png": "[encoded data removed]",
      "text/plain": [
       "<matplotlib.figure.Figure at 0x11a8748d0>"
      ]
     },
     "metadata": {},
     "output_type": "display_data"
    }
   ],
   "source": [
    "from sklearn.metrics import precision_recall_curve\n",
    "import matplotlib.pyplot as plt\n",
    "\n",
    "precision, recall, _ = precision_recall_curve(y, pred)\n",
    "# precision, recall, _ = precision_recall_curve(y_test, y_score)\n",
    "\n",
    "plt.step(recall, precision, color='b', alpha=0.2,\n",
    "         where='post')\n",
    "plt.fill_between(recall, precision, step='post', alpha=0.2,\n",
    "                 color='b')\n",
    "\n",
    "plt.xlabel('Recall')\n",
    "plt.ylabel('Precision')\n",
    "plt.ylim([0.0, 1.05])\n",
    "plt.xlim([0.0, 1.0])\n",
    "plt.title('2-class Precision-Recall curve: AUC={0:0.2f}'.format(\n",
    "          average_precision))"
   ]
  },
  {
   "cell_type": "code",
   "execution_count": 36,
   "metadata": {},
   "outputs": [
    {
     "data": {
      "text/plain": [
       "150"
      ]
     },
     "execution_count": 36,
     "metadata": {},
     "output_type": "execute_result"
    }
   ],
   "source": [
    "len(y)"
   ]
  },
  {
   "cell_type": "code",
   "execution_count": null,
   "metadata": {
    "collapsed": true
   },
   "outputs": [],
   "source": []
  },
  {
   "cell_type": "code",
   "execution_count": null,
   "metadata": {
    "collapsed": true
   },
   "outputs": [],
   "source": []
  },
  {
   "cell_type": "code",
   "execution_count": null,
   "metadata": {
    "collapsed": true
   },
   "outputs": [],
   "source": []
  },
  {
   "cell_type": "code",
   "execution_count": null,
   "metadata": {
    "collapsed": true
   },
   "outputs": [],
   "source": []
  },
  {
   "cell_type": "code",
   "execution_count": null,
   "metadata": {
    "collapsed": true
   },
   "outputs": [],
   "source": []
  },
  {
   "cell_type": "code",
   "execution_count": null,
   "metadata": {
    "collapsed": true
   },
   "outputs": [],
   "source": []
  },
  {
   "cell_type": "code",
   "execution_count": 123,
   "metadata": {},
   "outputs": [
    {
     "data": {
      "image/png": "[encoded data removed]",
      "text/plain": [
       "<matplotlib.figure.Figure at 0x1174fc590>"
      ]
     },
     "metadata": {},
     "output_type": "display_data"
    }
   ],
   "source": [
    "plot_hist('Age')"
   ]
  },
  {
   "cell_type": "code",
   "execution_count": 129,
   "metadata": {},
   "outputs": [
    {
     "name": "stdout",
     "output_type": "stream",
     "text": [
      "Accuracy: 0.81 (+/- 0.04)\n"
     ]
    },
    {
     "data": {
      "text/plain": [
       "array([ 0.82122905,  0.81005587,  0.79213483,  0.78089888,  0.83050847])"
      ]
     },
     "execution_count": 129,
     "metadata": {},
     "output_type": "execute_result"
    }
   ],
   "source": [
    "X['is_child'] = X[\"Age\"] < 8\n",
    "cols = [c for c in X.columns if 'Age' not in c]\n",
    "X1 = X[cols] \n",
    "compute_score(lr, X1, y)"
   ]
  },
  {
   "cell_type": "code",
   "execution_count": 128,
   "metadata": {},
   "outputs": [
    {
     "data": {
      "text/html": [
       "<div>\n",
       "<table border=\"1\" class=\"dataframe\">\n",
       "  <thead>\n",
       "    <tr style=\"text-align: right;\">\n",
       "      <th></th>\n",
       "      <th>0</th>\n",
       "      <th>1</th>\n",
       "      <th>2</th>\n",
       "      <th>3</th>\n",
       "      <th>4</th>\n",
       "      <th>5</th>\n",
       "      <th>6</th>\n",
       "      <th>7</th>\n",
       "      <th>8</th>\n",
       "      <th>9</th>\n",
       "    </tr>\n",
       "  </thead>\n",
       "  <tbody>\n",
       "    <tr>\n",
       "      <th>0</th>\n",
       "      <td>Age</td>\n",
       "      <td>SibSp</td>\n",
       "      <td>Parch</td>\n",
       "      <td>Fare</td>\n",
       "      <td>Pclass_1</td>\n",
       "      <td>Pclass_2</td>\n",
       "      <td>Pclass_3</td>\n",
       "      <td>Sex_female</td>\n",
       "      <td>Sex_male</td>\n",
       "      <td>is_child</td>\n",
       "    </tr>\n",
       "    <tr>\n",
       "      <th>1</th>\n",
       "      <td>-0.0223084</td>\n",
       "      <td>-0.421813</td>\n",
       "      <td>-0.198159</td>\n",
       "      <td>0.004332</td>\n",
       "      <td>1.06824</td>\n",
       "      <td>0.184109</td>\n",
       "      <td>-0.825251</td>\n",
       "      <td>1.59541</td>\n",
       "      <td>-1.16831</td>\n",
       "      <td>1.7215</td>\n",
       "    </tr>\n",
       "  </tbody>\n",
       "</table>\n",
       "</div>"
      ],
      "text/plain": [
       "           0         1         2         3         4         5         6  \\\n",
       "0        Age     SibSp     Parch      Fare  Pclass_1  Pclass_2  Pclass_3   \n",
       "1 -0.0223084 -0.421813 -0.198159  0.004332   1.06824  0.184109 -0.825251   \n",
       "\n",
       "            7         8         9  \n",
       "0  Sex_female  Sex_male  is_child  \n",
       "1     1.59541  -1.16831    1.7215  "
      ]
     },
     "execution_count": 128,
     "metadata": {},
     "output_type": "execute_result"
    }
   ],
   "source": [
    "lr.fit(X, y)\n",
    "coef = pd.DataFrame([list(X.columns), list(lr.coef_[0])])\n",
    "coef"
   ]
  },
  {
   "cell_type": "raw",
   "metadata": {},
   "source": [
    "le coeff elevé de is_child montre bien qu'on a plus de chance d'etre survivant quand on est un enfant. En rajoutant la variable is_child, nous avons créee la non linéarité qu'un modele de regression simple ne peut pas capturer.\n",
    "Nous avons fait les premiers pas vers le feature engineering, qui est essentiel si vous voulez obtenir de belles performances avec les algorithmes de ML."
   ]
  },
  {
   "cell_type": "markdown",
   "metadata": {},
   "source": [
    "#### Random forest au secours du titanic"
   ]
  },
  {
   "cell_type": "code",
   "execution_count": 131,
   "metadata": {},
   "outputs": [
    {
     "data": {
      "text/plain": [
       "Index([u'Age', u'SibSp', u'Parch', u'Fare', u'Pclass_1', u'Pclass_2',\n",
       "       u'Pclass_3', u'Sex_female', u'Sex_male', u'is_child'],\n",
       "      dtype='object')"
      ]
     },
     "execution_count": 131,
     "metadata": {},
     "output_type": "execute_result"
    }
   ],
   "source": []
  },
  {
   "cell_type": "code",
   "execution_count": 77,
   "metadata": {},
   "outputs": [
    {
     "name": "stdout",
     "output_type": "stream",
     "text": [
      "Accuracy: 0.82 (+/- 0.06)\n"
     ]
    },
    {
     "data": {
      "text/plain": [
       "array([ 0.77094972,  0.84357542,  0.85955056,  0.80337079,  0.84180791])"
      ]
     },
     "execution_count": 77,
     "metadata": {},
     "output_type": "execute_result"
    }
   ],
   "source": [
    "from sklearn.ensemble import RandomForestClassifier\n",
    "#X2 = X.drop('is_child', 1)\n",
    "rf = RandomForestClassifier()\n",
    "compute_score(rf, X, y)\n"
   ]
  },
  {
   "cell_type": "raw",
   "metadata": {},
   "source": [
    "On obtinet directement un meilleur score que la regression logistique sans meme\n",
    "- utiliser la variable is child\n",
    "- ni chercher les paramètres optimaux en terme de nombre d'arbres, profondeur maximale etc..."
   ]
  },
  {
   "cell_type": "code",
   "execution_count": 136,
   "metadata": {},
   "outputs": [
    {
     "name": "stdout",
     "output_type": "stream",
     "text": [
      "Accuracy: 0.81 (+/- 0.05)\n"
     ]
    },
    {
     "data": {
      "text/plain": [
       "array([ 0.81005587,  0.78212291,  0.85955056,  0.79213483,  0.81920904])"
      ]
     },
     "execution_count": 136,
     "metadata": {},
     "output_type": "execute_result"
    }
   ],
   "source": [
    "compute_score(rf, X1, y)"
   ]
  },
  {
   "cell_type": "code",
   "execution_count": 137,
   "metadata": {
    "scrolled": true
   },
   "outputs": [
    {
     "data": {
      "text/html": [
       "<div>\n",
       "<table border=\"1\" class=\"dataframe\">\n",
       "  <thead>\n",
       "    <tr style=\"text-align: right;\">\n",
       "      <th></th>\n",
       "      <th>SibSp</th>\n",
       "      <th>Parch</th>\n",
       "      <th>Fare</th>\n",
       "      <th>Pclass_1</th>\n",
       "      <th>Pclass_2</th>\n",
       "      <th>Pclass_3</th>\n",
       "      <th>Sex_female</th>\n",
       "      <th>Sex_male</th>\n",
       "      <th>is_child</th>\n",
       "    </tr>\n",
       "  </thead>\n",
       "  <tbody>\n",
       "    <tr>\n",
       "      <th>0</th>\n",
       "      <td>1</td>\n",
       "      <td>0</td>\n",
       "      <td>7.2500</td>\n",
       "      <td>0.0</td>\n",
       "      <td>0.0</td>\n",
       "      <td>1.0</td>\n",
       "      <td>0.0</td>\n",
       "      <td>1.0</td>\n",
       "      <td>False</td>\n",
       "    </tr>\n",
       "    <tr>\n",
       "      <th>1</th>\n",
       "      <td>1</td>\n",
       "      <td>0</td>\n",
       "      <td>71.2833</td>\n",
       "      <td>1.0</td>\n",
       "      <td>0.0</td>\n",
       "      <td>0.0</td>\n",
       "      <td>1.0</td>\n",
       "      <td>0.0</td>\n",
       "      <td>False</td>\n",
       "    </tr>\n",
       "    <tr>\n",
       "      <th>2</th>\n",
       "      <td>0</td>\n",
       "      <td>0</td>\n",
       "      <td>7.9250</td>\n",
       "      <td>0.0</td>\n",
       "      <td>0.0</td>\n",
       "      <td>1.0</td>\n",
       "      <td>1.0</td>\n",
       "      <td>0.0</td>\n",
       "      <td>False</td>\n",
       "    </tr>\n",
       "    <tr>\n",
       "      <th>3</th>\n",
       "      <td>1</td>\n",
       "      <td>0</td>\n",
       "      <td>53.1000</td>\n",
       "      <td>1.0</td>\n",
       "      <td>0.0</td>\n",
       "      <td>0.0</td>\n",
       "      <td>1.0</td>\n",
       "      <td>0.0</td>\n",
       "      <td>False</td>\n",
       "    </tr>\n",
       "    <tr>\n",
       "      <th>4</th>\n",
       "      <td>0</td>\n",
       "      <td>0</td>\n",
       "      <td>8.0500</td>\n",
       "      <td>0.0</td>\n",
       "      <td>0.0</td>\n",
       "      <td>1.0</td>\n",
       "      <td>0.0</td>\n",
       "      <td>1.0</td>\n",
       "      <td>False</td>\n",
       "    </tr>\n",
       "  </tbody>\n",
       "</table>\n",
       "</div>"
      ],
      "text/plain": [
       "   SibSp  Parch     Fare  Pclass_1  Pclass_2  Pclass_3  Sex_female  Sex_male  \\\n",
       "0      1      0   7.2500       0.0       0.0       1.0         0.0       1.0   \n",
       "1      1      0  71.2833       1.0       0.0       0.0         1.0       0.0   \n",
       "2      0      0   7.9250       0.0       0.0       1.0         1.0       0.0   \n",
       "3      1      0  53.1000       1.0       0.0       0.0         1.0       0.0   \n",
       "4      0      0   8.0500       0.0       0.0       1.0         0.0       1.0   \n",
       "\n",
       "  is_child  \n",
       "0    False  \n",
       "1    False  \n",
       "2    False  \n",
       "3    False  \n",
       "4    False  "
      ]
     },
     "execution_count": 137,
     "metadata": {},
     "output_type": "execute_result"
    }
   ],
   "source": [
    "X1.head()"
   ]
  },
  {
   "cell_type": "code",
   "execution_count": 79,
   "metadata": {},
   "outputs": [
    {
     "data": {
      "text/plain": [
       "array([0, 3, 7, 8, 6, 1, 2, 4, 5])"
      ]
     },
     "execution_count": 79,
     "metadata": {},
     "output_type": "execute_result"
    }
   ],
   "source": [
    "rf.fit(X, y)\n",
    "importances = rf.feature_importances_\n",
    "indices = np.argsort(importances)[::-1]\n",
    "indices"
   ]
  },
  {
   "cell_type": "code",
   "execution_count": 82,
   "metadata": {},
   "outputs": [
    {
     "data": {
      "text/plain": [
       "'Age'"
      ]
     },
     "execution_count": 82,
     "metadata": {},
     "output_type": "execute_result"
    }
   ],
   "source": [
    "X.columns[indices[0]]"
   ]
  },
  {
   "cell_type": "markdown",
   "metadata": {},
   "source": [
    "##### Importance des variables"
   ]
  },
  {
   "cell_type": "code",
   "execution_count": 164,
   "metadata": {
    "collapsed": true
   },
   "outputs": [],
   "source": [
    "\n",
    "def clf_importances(X, clf):\n",
    "    import pylab as pl\n",
    "    importances = clf.feature_importances_\n",
    "    indices = np.argsort(importances)[::-1]\n",
    "    pl.title(\"Feature importances\")\n",
    "    for tree in clf.estimators_:\n",
    "        pl.plot(xrange(X.shape[1]), tree.feature_importances_[indices], \"r\")\n",
    "        pl.plot(xrange(X.shape[1]), importances[indices], \"b\")\n",
    "        pl.show();\n",
    "    for f in range(X.shape[1]):\n",
    "        print(\"%d. feature: %s (%f)\" %(f + 1, X.columns[indices[f]], importances[indices[f]]))\n",
    "    "
   ]
  },
  {
   "cell_type": "code",
   "execution_count": 165,
   "metadata": {
    "scrolled": false
   },
   "outputs": [
    {
     "name": "stdout",
     "output_type": "stream",
     "text": [
      "[ 0.21783508  0.06094958  0.05955805  0.24956906  0.05066004  0.02845831\n",
      "  0.          0.          0.29032335  0.04264652]\n",
      "[8 3 0 1 2 4 9 5 7 6]\n"
     ]
    },
    {
     "data": {
      "image/png": "[encoded data removed]",
      "text/plain": [
       "<matplotlib.figure.Figure at 0x11bc44310>"
      ]
     },
     "metadata": {},
     "output_type": "display_data"
    },
    {
     "name": "stdout",
     "output_type": "stream",
     "text": [
      "[ 0.24702444  0.02495564  0.02759448  0.28108393  0.02392267  0.04954645\n",
      "  0.01589976  0.          0.32480426  0.00516837]\n",
      "[8 3 0 5 2 1 4 6 9 7]\n"
     ]
    },
    {
     "data": {
      "image/png": "[encoded data removed]",
      "text/plain": [
       "<matplotlib.figure.Figure at 0x11b0affd0>"
      ]
     },
     "metadata": {},
     "output_type": "display_data"
    },
    {
     "name": "stdout",
     "output_type": "stream",
     "text": [
      "[ 0.23061151  0.05223864  0.03549843  0.30829439  0.02738311  0.01718364\n",
      "  0.01430335  0.30178404  0.          0.01270289]\n",
      "[3 7 0 1 2 4 5 6 9 8]\n"
     ]
    },
    {
     "data": {
      "image/png": "[encoded data removed]",
      "text/plain": [
       "<matplotlib.figure.Figure at 0x11b5b8f50>"
      ]
     },
     "metadata": {},
     "output_type": "display_data"
    },
    {
     "name": "stdout",
     "output_type": "stream",
     "text": [
      "[ 0.23704557  0.03472314  0.04023225  0.30316605  0.02774177  0.01599222\n",
      "  0.02009817  0.31697467  0.          0.00402616]\n",
      "[7 3 0 2 1 4 6 5 9 8]\n"
     ]
    },
    {
     "data": {
      "image/png": "[encoded data removed]",
      "text/plain": [
       "<matplotlib.figure.Figure at 0x11ac1e950>"
      ]
     },
     "metadata": {},
     "output_type": "display_data"
    },
    {
     "name": "stdout",
     "output_type": "stream",
     "text": [
      "[ 0.22589574  0.09389463  0.01829916  0.34652889  0.00626866  0.03497023\n",
      "  0.05005899  0.07167178  0.14841689  0.00399503]\n",
      "[3 0 8 1 7 6 5 2 4 9]\n"
     ]
    },
    {
     "data": {
      "image/png": "[encoded data removed]",
      "text/plain": [
       "<matplotlib.figure.Figure at 0x11a448b90>"
      ]
     },
     "metadata": {},
     "output_type": "display_data"
    },
    {
     "name": "stdout",
     "output_type": "stream",
     "text": [
      "[ 0.27756118  0.04966951  0.03644097  0.23397401  0.02063675  0.02199842\n",
      "  0.00705884  0.33730438  0.          0.01535594]\n",
      "[7 0 3 1 2 5 4 9 6 8]\n"
     ]
    },
    {
     "data": {
      "image/png": "[encoded data removed]",
      "text/plain": [
       "<matplotlib.figure.Figure at 0x11ad0f610>"
      ]
     },
     "metadata": {},
     "output_type": "display_data"
    },
    {
     "name": "stdout",
     "output_type": "stream",
     "text": [
      "[ 0.27878422  0.01131314  0.02890072  0.2663811   0.00739418  0.0005926\n",
      "  0.09611688  0.1186313   0.15519599  0.03668987]\n",
      "[0 3 8 7 6 9 2 1 4 5]\n"
     ]
    },
    {
     "data": {
      "image/png": "[encoded data removed]",
      "text/plain": [
       "<matplotlib.figure.Figure at 0x11bc87950>"
      ]
     },
     "metadata": {},
     "output_type": "display_data"
    },
    {
     "name": "stdout",
     "output_type": "stream",
     "text": [
      "[ 0.32194197  0.01938889  0.01072981  0.27993365  0.01462832  0.01461336\n",
      "  0.07388025  0.26488375  0.          0.        ]\n",
      "[0 3 7 6 1 4 5 2 9 8]\n"
     ]
    },
    {
     "data": {
      "image/png": "[encoded data removed]",
      "text/plain": [
       "<matplotlib.figure.Figure at 0x11ba8f510>"
      ]
     },
     "metadata": {},
     "output_type": "display_data"
    },
    {
     "name": "stdout",
     "output_type": "stream",
     "text": [
      "[ 0.25979415  0.02692595  0.03020526  0.31476875  0.02113993  0.00539354\n",
      "  0.01749943  0.          0.28078797  0.04348502]\n",
      "[3 8 0 9 2 1 4 6 5 7]\n"
     ]
    },
    {
     "data": {
      "image/png": "[encoded data removed]",
      "text/plain": [
       "<matplotlib.figure.Figure at 0x11bbcfe50>"
      ]
     },
     "metadata": {},
     "output_type": "display_data"
    },
    {
     "name": "stdout",
     "output_type": "stream",
     "text": [
      "[ 0.21648336  0.02738445  0.01780973  0.28315441  0.02139664  0.\n",
      "  0.05450782  0.          0.35058374  0.02867983]\n",
      "[8 3 0 6 9 1 4 2 7 5]\n"
     ]
    },
    {
     "data": {
      "image/png": "[encoded data removed]",
      "text/plain": [
       "<matplotlib.figure.Figure at 0x11af27b50>"
      ]
     },
     "metadata": {},
     "output_type": "display_data"
    },
    {
     "name": "stdout",
     "output_type": "stream",
     "text": [
      "1. feature: Fare (0.286685)\n",
      "2. feature: Age (0.251298)\n",
      "3. feature: Sex_male (0.155011)\n",
      "4. feature: Sex_female (0.141125)\n",
      "5. feature: SibSp (0.040144)\n",
      "6. feature: Pclass_3 (0.034942)\n",
      "7. feature: Parch (0.030527)\n",
      "8. feature: Pclass_1 (0.022117)\n",
      "9. feature: is_child (0.019275)\n",
      "10. feature: Pclass_2 (0.018875)\n"
     ]
    }
   ],
   "source": [
    "rf.fit(X, y)\n",
    "clf_importances(X, rf)"
   ]
  },
  {
   "cell_type": "raw",
   "metadata": {},
   "source": [
    "On se rend compte que en général, les cinq meilleures variables permettent d'expliquer 80% de la variance du pb. Elle classe et nous donne la contribution agrégée de chaque variable. \n",
    "Cette superposition comprare l'importance de chaque variable au global à sa contribution sur chaque arbre.\n",
    "On remarque également que les variables Fare et Age totalement délaissées par le modèle linéaire se retrouvent tout en haut du classement. Elles apparaissent plus souvent et plus haut dans les arbres. Mais attention, c'est aussi et surtout parceque Age et Fare sont des variables continues de grande dispersions   "
   ]
  },
  {
   "cell_type": "code",
   "execution_count": 5,
   "metadata": {},
   "outputs": [],
   "source": [
    "def parse_model_final(X):\n",
    "    if \"Survived\" not in X.columns:\n",
    "        raise ValueError(\"target column survived should belong to df\")\n",
    "    target = X[\"Survived\"]\n",
    "    X['title'] = X['Name'].map(lambda x: x.split(',')[1].split('.')[0])\n",
    "    X['surname'] = X['Name'].map(lambda x: '(' in x)\n",
    "    X['Cabin'] = X['Cabin'].map(lambda x: x[0] if not pd.isnull(x) else -1)\n",
    "    to_dummy = ['Pclass', 'Sex', 'title', 'Embarked', 'Cabin']\n",
    "    for dum in to_dummy:\n",
    "        split_temp = pd.get_dummies(X[dum], prefix=dum)\n",
    "        X = X.join(split_temp)\n",
    "        del X[dum]\n",
    "    X['Age'] = X['Age'].fillna(X['Age'].median())\n",
    "    X['is_child'] = X['Age'] <= 8\n",
    "    to_del = [\"PassengerId\", \"Name\", \"Survived\", \"Ticket\"]\n",
    "    for col in to_del:\n",
    "        del X[col]\n",
    "    return X, target  \n",
    "X, target = parse_model_final(train.copy())"
   ]
  },
  {
   "cell_type": "code",
   "execution_count": 1,
   "metadata": {},
   "outputs": [
    {
     "data": {
      "text/plain": [
       "' Mrs'"
      ]
     },
     "execution_count": 1,
     "metadata": {},
     "output_type": "execute_result"
    }
   ],
   "source": [
    "xx = \"Futrelle, Mrs. Jacques Heath (Lily May Peel)\"\n",
    "xx.split(',')[1].split('.')[0]"
   ]
  },
  {
   "cell_type": "code",
   "execution_count": 6,
   "metadata": {},
   "outputs": [
    {
     "data": {
      "text/html": [
       "<div>\n",
       "<style scoped>\n",
       "    .dataframe tbody tr th:only-of-type {\n",
       "        vertical-align: middle;\n",
       "    }\n",
       "\n",
       "    .dataframe tbody tr th {\n",
       "        vertical-align: top;\n",
       "    }\n",
       "\n",
       "    .dataframe thead th {\n",
       "        text-align: right;\n",
       "    }\n",
       "</style>\n",
       "<table border=\"1\" class=\"dataframe\">\n",
       "  <thead>\n",
       "    <tr style=\"text-align: right;\">\n",
       "      <th></th>\n",
       "      <th>Age</th>\n",
       "      <th>SibSp</th>\n",
       "      <th>Parch</th>\n",
       "      <th>Fare</th>\n",
       "      <th>surname</th>\n",
       "      <th>Pclass_1</th>\n",
       "      <th>Pclass_2</th>\n",
       "      <th>Pclass_3</th>\n",
       "      <th>Sex_female</th>\n",
       "      <th>Sex_male</th>\n",
       "      <th>...</th>\n",
       "      <th>Cabin_-1</th>\n",
       "      <th>Cabin_A</th>\n",
       "      <th>Cabin_B</th>\n",
       "      <th>Cabin_C</th>\n",
       "      <th>Cabin_D</th>\n",
       "      <th>Cabin_E</th>\n",
       "      <th>Cabin_F</th>\n",
       "      <th>Cabin_G</th>\n",
       "      <th>Cabin_T</th>\n",
       "      <th>is_child</th>\n",
       "    </tr>\n",
       "  </thead>\n",
       "  <tbody>\n",
       "    <tr>\n",
       "      <th>0</th>\n",
       "      <td>22.0</td>\n",
       "      <td>1</td>\n",
       "      <td>0</td>\n",
       "      <td>7.2500</td>\n",
       "      <td>False</td>\n",
       "      <td>0</td>\n",
       "      <td>0</td>\n",
       "      <td>1</td>\n",
       "      <td>0</td>\n",
       "      <td>1</td>\n",
       "      <td>...</td>\n",
       "      <td>1</td>\n",
       "      <td>0</td>\n",
       "      <td>0</td>\n",
       "      <td>0</td>\n",
       "      <td>0</td>\n",
       "      <td>0</td>\n",
       "      <td>0</td>\n",
       "      <td>0</td>\n",
       "      <td>0</td>\n",
       "      <td>False</td>\n",
       "    </tr>\n",
       "    <tr>\n",
       "      <th>1</th>\n",
       "      <td>38.0</td>\n",
       "      <td>1</td>\n",
       "      <td>0</td>\n",
       "      <td>71.2833</td>\n",
       "      <td>True</td>\n",
       "      <td>1</td>\n",
       "      <td>0</td>\n",
       "      <td>0</td>\n",
       "      <td>1</td>\n",
       "      <td>0</td>\n",
       "      <td>...</td>\n",
       "      <td>0</td>\n",
       "      <td>0</td>\n",
       "      <td>0</td>\n",
       "      <td>1</td>\n",
       "      <td>0</td>\n",
       "      <td>0</td>\n",
       "      <td>0</td>\n",
       "      <td>0</td>\n",
       "      <td>0</td>\n",
       "      <td>False</td>\n",
       "    </tr>\n",
       "    <tr>\n",
       "      <th>2</th>\n",
       "      <td>26.0</td>\n",
       "      <td>0</td>\n",
       "      <td>0</td>\n",
       "      <td>7.9250</td>\n",
       "      <td>False</td>\n",
       "      <td>0</td>\n",
       "      <td>0</td>\n",
       "      <td>1</td>\n",
       "      <td>1</td>\n",
       "      <td>0</td>\n",
       "      <td>...</td>\n",
       "      <td>1</td>\n",
       "      <td>0</td>\n",
       "      <td>0</td>\n",
       "      <td>0</td>\n",
       "      <td>0</td>\n",
       "      <td>0</td>\n",
       "      <td>0</td>\n",
       "      <td>0</td>\n",
       "      <td>0</td>\n",
       "      <td>False</td>\n",
       "    </tr>\n",
       "    <tr>\n",
       "      <th>3</th>\n",
       "      <td>35.0</td>\n",
       "      <td>1</td>\n",
       "      <td>0</td>\n",
       "      <td>53.1000</td>\n",
       "      <td>True</td>\n",
       "      <td>1</td>\n",
       "      <td>0</td>\n",
       "      <td>0</td>\n",
       "      <td>1</td>\n",
       "      <td>0</td>\n",
       "      <td>...</td>\n",
       "      <td>0</td>\n",
       "      <td>0</td>\n",
       "      <td>0</td>\n",
       "      <td>1</td>\n",
       "      <td>0</td>\n",
       "      <td>0</td>\n",
       "      <td>0</td>\n",
       "      <td>0</td>\n",
       "      <td>0</td>\n",
       "      <td>False</td>\n",
       "    </tr>\n",
       "    <tr>\n",
       "      <th>4</th>\n",
       "      <td>35.0</td>\n",
       "      <td>0</td>\n",
       "      <td>0</td>\n",
       "      <td>8.0500</td>\n",
       "      <td>False</td>\n",
       "      <td>0</td>\n",
       "      <td>0</td>\n",
       "      <td>1</td>\n",
       "      <td>0</td>\n",
       "      <td>1</td>\n",
       "      <td>...</td>\n",
       "      <td>1</td>\n",
       "      <td>0</td>\n",
       "      <td>0</td>\n",
       "      <td>0</td>\n",
       "      <td>0</td>\n",
       "      <td>0</td>\n",
       "      <td>0</td>\n",
       "      <td>0</td>\n",
       "      <td>0</td>\n",
       "      <td>False</td>\n",
       "    </tr>\n",
       "  </tbody>\n",
       "</table>\n",
       "<p>5 rows × 40 columns</p>\n",
       "</div>"
      ],
      "text/plain": [
       "    Age  SibSp  Parch     Fare  surname  Pclass_1  Pclass_2  Pclass_3  \\\n",
       "0  22.0      1      0   7.2500    False         0         0         1   \n",
       "1  38.0      1      0  71.2833     True         1         0         0   \n",
       "2  26.0      0      0   7.9250    False         0         0         1   \n",
       "3  35.0      1      0  53.1000     True         1         0         0   \n",
       "4  35.0      0      0   8.0500    False         0         0         1   \n",
       "\n",
       "   Sex_female  Sex_male    ...     Cabin_-1  Cabin_A  Cabin_B  Cabin_C  \\\n",
       "0           0         1    ...            1        0        0        0   \n",
       "1           1         0    ...            0        0        0        1   \n",
       "2           1         0    ...            1        0        0        0   \n",
       "3           1         0    ...            0        0        0        1   \n",
       "4           0         1    ...            1        0        0        0   \n",
       "\n",
       "   Cabin_D  Cabin_E  Cabin_F  Cabin_G  Cabin_T  is_child  \n",
       "0        0        0        0        0        0     False  \n",
       "1        0        0        0        0        0     False  \n",
       "2        0        0        0        0        0     False  \n",
       "3        0        0        0        0        0     False  \n",
       "4        0        0        0        0        0     False  \n",
       "\n",
       "[5 rows x 40 columns]"
      ]
     },
     "execution_count": 6,
     "metadata": {},
     "output_type": "execute_result"
    }
   ],
   "source": [
    "X.head()"
   ]
  },
  {
   "cell_type": "code",
   "execution_count": 175,
   "metadata": {},
   "outputs": [
    {
     "data": {
      "text/plain": [
       "Index([u'Age', u'SibSp', u'Parch', u'Fare', u'surname', u'Pclass_1',\n",
       "       u'Pclass_2', u'Pclass_3', u'Sex_female', u'Sex_male', u'title_ Capt',\n",
       "       u'title_ Col', u'title_ Don', u'title_ Dr', u'title_ Jonkheer',\n",
       "       u'title_ Lady', u'title_ Major', u'title_ Master', u'title_ Miss',\n",
       "       u'title_ Mlle', u'title_ Mme', u'title_ Mr', u'title_ Mrs',\n",
       "       u'title_ Ms', u'title_ Rev', u'title_ Sir', u'title_ the Countess',\n",
       "       u'Embarked_C', u'Embarked_Q', u'Embarked_S', u'Cabin_-1', u'Cabin_A',\n",
       "       u'Cabin_B', u'Cabin_C', u'Cabin_D', u'Cabin_E', u'Cabin_F', u'Cabin_G',\n",
       "       u'Cabin_T', u'is_child'],\n",
       "      dtype='object')"
      ]
     },
     "execution_count": 175,
     "metadata": {},
     "output_type": "execute_result"
    }
   ],
   "source": [
    "X.columns"
   ]
  },
  {
   "cell_type": "code",
   "execution_count": null,
   "metadata": {},
   "outputs": [],
   "source": []
  },
  {
   "cell_type": "code",
   "execution_count": 184,
   "metadata": {},
   "outputs": [
    {
     "name": "stdout",
     "output_type": "stream",
     "text": [
      "Accuracy: 0.82 (+/- 0.07)\n"
     ]
    },
    {
     "data": {
      "text/plain": [
       "array([ 0.83240223,  0.78212291,  0.86516854,  0.78089888,  0.85310734])"
      ]
     },
     "execution_count": 184,
     "metadata": {},
     "output_type": "execute_result"
    }
   ],
   "source": [
    "compute_score(rf, X, y)"
   ]
  },
  {
   "cell_type": "code",
   "execution_count": 185,
   "metadata": {},
   "outputs": [
    {
     "data": {
      "text/html": [
       "<div>\n",
       "<table border=\"1\" class=\"dataframe\">\n",
       "  <thead>\n",
       "    <tr style=\"text-align: right;\">\n",
       "      <th></th>\n",
       "      <th>0</th>\n",
       "      <th>1</th>\n",
       "      <th>2</th>\n",
       "      <th>3</th>\n",
       "      <th>4</th>\n",
       "      <th>5</th>\n",
       "      <th>6</th>\n",
       "      <th>7</th>\n",
       "      <th>8</th>\n",
       "      <th>9</th>\n",
       "      <th>...</th>\n",
       "      <th>30</th>\n",
       "      <th>31</th>\n",
       "      <th>32</th>\n",
       "      <th>33</th>\n",
       "      <th>34</th>\n",
       "      <th>35</th>\n",
       "      <th>36</th>\n",
       "      <th>37</th>\n",
       "      <th>38</th>\n",
       "      <th>39</th>\n",
       "    </tr>\n",
       "  </thead>\n",
       "  <tbody>\n",
       "    <tr>\n",
       "      <th>0</th>\n",
       "      <td>Age</td>\n",
       "      <td>SibSp</td>\n",
       "      <td>Parch</td>\n",
       "      <td>Fare</td>\n",
       "      <td>surname</td>\n",
       "      <td>Pclass_1</td>\n",
       "      <td>Pclass_2</td>\n",
       "      <td>Pclass_3</td>\n",
       "      <td>Sex_female</td>\n",
       "      <td>Sex_male</td>\n",
       "      <td>...</td>\n",
       "      <td>Cabin_-1</td>\n",
       "      <td>Cabin_A</td>\n",
       "      <td>Cabin_B</td>\n",
       "      <td>Cabin_C</td>\n",
       "      <td>Cabin_D</td>\n",
       "      <td>Cabin_E</td>\n",
       "      <td>Cabin_F</td>\n",
       "      <td>Cabin_G</td>\n",
       "      <td>Cabin_T</td>\n",
       "      <td>is_child</td>\n",
       "    </tr>\n",
       "    <tr>\n",
       "      <th>1</th>\n",
       "      <td>-0.023758</td>\n",
       "      <td>-0.524216</td>\n",
       "      <td>-0.378234</td>\n",
       "      <td>0.00518329</td>\n",
       "      <td>0.987482</td>\n",
       "      <td>0.721875</td>\n",
       "      <td>0.425248</td>\n",
       "      <td>-0.512256</td>\n",
       "      <td>1.12791</td>\n",
       "      <td>-0.49304</td>\n",
       "      <td>...</td>\n",
       "      <td>-0.518121</td>\n",
       "      <td>0.0539852</td>\n",
       "      <td>0.243216</td>\n",
       "      <td>-0.110258</td>\n",
       "      <td>0.763708</td>\n",
       "      <td>0.959982</td>\n",
       "      <td>0.11054</td>\n",
       "      <td>-0.638104</td>\n",
       "      <td>-0.230081</td>\n",
       "      <td>0.744271</td>\n",
       "    </tr>\n",
       "  </tbody>\n",
       "</table>\n",
       "<p>2 rows × 40 columns</p>\n",
       "</div>"
      ],
      "text/plain": [
       "         0         1         2           3         4         5         6   \\\n",
       "0       Age     SibSp     Parch        Fare   surname  Pclass_1  Pclass_2   \n",
       "1 -0.023758 -0.524216 -0.378234  0.00518329  0.987482  0.721875  0.425248   \n",
       "\n",
       "         7           8         9     ...           30         31        32  \\\n",
       "0  Pclass_3  Sex_female  Sex_male    ...     Cabin_-1    Cabin_A   Cabin_B   \n",
       "1 -0.512256     1.12791  -0.49304    ...    -0.518121  0.0539852  0.243216   \n",
       "\n",
       "         33        34        35       36        37        38        39  \n",
       "0   Cabin_C   Cabin_D   Cabin_E  Cabin_F   Cabin_G   Cabin_T  is_child  \n",
       "1 -0.110258  0.763708  0.959982  0.11054 -0.638104 -0.230081  0.744271  \n",
       "\n",
       "[2 rows x 40 columns]"
      ]
     },
     "execution_count": 185,
     "metadata": {},
     "output_type": "execute_result"
    }
   ],
   "source": [
    "lr.fit(X, y)\n",
    "coef = pd.DataFrame([list(X.columns), list(lr.coef_[0])])\n",
    "coef"
   ]
  },
  {
   "cell_type": "code",
   "execution_count": 7,
   "metadata": {},
   "outputs": [],
   "source": [
    "from bdc_ml_optimizer.tuning import hp\n",
    "from bdc_ml_optimizer import tuning\n",
    "model = {\n",
    "        \"xgboost_hyperparameters\":\n",
    "            {\n",
    "            \"max_depth\": [1, 30, 1],\n",
    "            \"learning_rate\": [0.01, 0.25, 0.01],\n",
    "            \"n_estimators\": [100, 300, 10],\n",
    "            \"nthread\": -1,\n",
    "            \"gamma\": [0, 2, 0.1]\n",
    "            },\n",
    "        \"rf_hyperparameters\":\n",
    "            {\n",
    "            \"max_depth\": [1, 30, 1],\n",
    "            \"n_estimators\": [100, 400, 5],\n",
    "            'min_samples_leaf': [2, 20, 5]\n",
    "            }\n",
    "        }\n",
    "def space_parameters(model_conf):\n",
    "    space ={}\n",
    "    model_hyperparameters = model_conf[\"rf_hyperparameters\"]\n",
    "    for k in model_hyperparameters.keys():\n",
    "        param_value = model_hyperparameters[k]\n",
    "        if (k == \"n_estimators\") | (k == \"min_samples_leaf\"):\n",
    "            space[k] = hp.choice(k, range(param_value[0], param_value[1], param_value[2]))\n",
    "        elif k == \"nthread\":\n",
    "            space[k] = param_value\n",
    "        else:\n",
    "            space[k] = hp.quniform(k, param_value[0], param_value[1], param_value[2])\n",
    "    return space\n",
    "\n",
    "space = space_parameters(model)"
   ]
  },
  {
   "cell_type": "code",
   "execution_count": 8,
   "metadata": {},
   "outputs": [],
   "source": [
    "from sklearn.ensemble import RandomForestClassifier\n",
    "\n",
    "X, target = parse_model_final(train.copy())\n",
    "estimator_class = RandomForestClassifier"
   ]
  },
  {
   "cell_type": "code",
   "execution_count": 9,
   "metadata": {},
   "outputs": [
    {
     "data": {
      "text/plain": [
       "0.09431067947124129"
      ]
     },
     "execution_count": 9,
     "metadata": {},
     "output_type": "execute_result"
    }
   ],
   "source": [
    "def logloss(p, y, bound_limit=10e-8):\n",
    "    p = max(min(p, 1 - bound_limit), bound_limit)\n",
    " \n",
    "    return -np.log(p) if y == 1. else -np.log(1. - p) \n",
    "\n",
    "logloss(0.91, 1)"
   ]
  },
  {
   "cell_type": "code",
   "execution_count": 10,
   "metadata": {},
   "outputs": [],
   "source": [
    "\n",
    "from sklearn.metrics import log_loss, accuracy_score\n",
    "\n",
    "def accuracy(obs, pred):\n",
    "    return np.mean(np.abs(obs - pred))\n",
    "\n",
    "def rmse(obs, pred):\n",
    "    return np.sqrt(np.mean((obs - pred) ** 2))\n",
    "\n",
    "\n",
    "bp = tuning.tune(estimator_class, X.values, target,\n",
    "         space, log_loss, cv=5, learning='classification')"
   ]
  },
  {
   "cell_type": "code",
   "execution_count": 11,
   "metadata": {},
   "outputs": [
    {
     "data": {
      "text/plain": [
       "{'max_depth': 7.0, 'min_samples_leaf': 2, 'n_estimators': 125}"
      ]
     },
     "execution_count": 11,
     "metadata": {},
     "output_type": "execute_result"
    }
   ],
   "source": [
    "bp"
   ]
  },
  {
   "cell_type": "code",
   "execution_count": null,
   "metadata": {},
   "outputs": [],
   "source": []
  },
  {
   "cell_type": "code",
   "execution_count": 15,
   "metadata": {},
   "outputs": [
    {
     "name": "stdout",
     "output_type": "stream",
     "text": [
      "Accuracy: 0.83 (+/- 0.03)\n"
     ]
    },
    {
     "data": {
      "text/plain": [
       "array([ 0.82681564,  0.82122905,  0.83707865,  0.80898876,  0.85875706])"
      ]
     },
     "execution_count": 15,
     "metadata": {},
     "output_type": "execute_result"
    }
   ],
   "source": [
    "estimator = estimator_class(**bp)\n",
    "compute_score(estimator, X, target)"
   ]
  },
  {
   "cell_type": "code",
   "execution_count": 9,
   "metadata": {},
   "outputs": [
    {
     "data": {
      "text/plain": [
       "' Mrs'"
      ]
     },
     "execution_count": 9,
     "metadata": {},
     "output_type": "execute_result"
    }
   ],
   "source": [
    "x = \"Futrelle, Mrs. Jacques Heath (Lily May Peel)\"\n",
    "x.split(',')[1].split('.')[0]"
   ]
  },
  {
   "cell_type": "code",
   "execution_count": 10,
   "metadata": {},
   "outputs": [
    {
     "data": {
      "text/plain": [
       "True"
      ]
     },
     "execution_count": 10,
     "metadata": {},
     "output_type": "execute_result"
    }
   ],
   "source": [
    "'(' in x\n"
   ]
  },
  {
   "cell_type": "code",
   "execution_count": null,
   "metadata": {},
   "outputs": [],
   "source": []
  }
 ],
 "metadata": {
  "anaconda-cloud": {},
  "kernelspec": {
   "display_name": "Python 3",
   "language": "python",
   "name": "python3"
  },
  "language_info": {
   "codemirror_mode": {
    "name": "ipython",
    "version": 3
   },
   "file_extension": ".py",
   "mimetype": "text/x-python",
   "name": "python",
   "nbconvert_exporter": "python",
   "pygments_lexer": "ipython3",
   "version": "3.7.6"
  }
 },
 "nbformat": 4,
 "nbformat_minor": 1
}
